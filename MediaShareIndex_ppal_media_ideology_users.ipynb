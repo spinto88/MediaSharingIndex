{
 "cells": [
  {
   "cell_type": "markdown",
   "id": "35c2ff33",
   "metadata": {},
   "source": [
    "### Latent ideology of users\n",
    "\n",
    "LI is based on the media outlet shared by each user, therefore the ideology reflects the group of media an user shares."
   ]
  },
  {
   "cell_type": "code",
   "execution_count": 1,
   "id": "6cf18a9f",
   "metadata": {},
   "outputs": [],
   "source": [
    "import numpy as np\n",
    "import pandas as pd\n",
    "import matplotlib.pyplot as plt\n",
    "from sklearn.preprocessing import OneHotEncoder\n",
    "import seaborn as sns \n",
    "\n",
    "\n",
    "np.random.seed(123459)"
   ]
  },
  {
   "cell_type": "code",
   "execution_count": 2,
   "id": "d1d1d332",
   "metadata": {
    "scrolled": true
   },
   "outputs": [
    {
     "data": {
      "text/html": [
       "<div>\n",
       "<style scoped>\n",
       "    .dataframe tbody tr th:only-of-type {\n",
       "        vertical-align: middle;\n",
       "    }\n",
       "\n",
       "    .dataframe tbody tr th {\n",
       "        vertical-align: top;\n",
       "    }\n",
       "\n",
       "    .dataframe thead th {\n",
       "        text-align: right;\n",
       "    }\n",
       "</style>\n",
       "<table border=\"1\" class=\"dataframe\">\n",
       "  <thead>\n",
       "    <tr style=\"text-align: right;\">\n",
       "      <th></th>\n",
       "      <th>fecha</th>\n",
       "      <th>url_expanded</th>\n",
       "      <th>medio</th>\n",
       "      <th>opinion_dinamic</th>\n",
       "      <th>tw_id</th>\n",
       "      <th>usr_id</th>\n",
       "    </tr>\n",
       "  </thead>\n",
       "  <tbody>\n",
       "    <tr>\n",
       "      <th>0</th>\n",
       "      <td>2019-03-01</td>\n",
       "      <td>https://www.clarin.com/politica/cristina-hijos...</td>\n",
       "      <td>Clarin</td>\n",
       "      <td>NaN</td>\n",
       "      <td>1101346910135377920</td>\n",
       "      <td>716295311342321665</td>\n",
       "    </tr>\n",
       "    <tr>\n",
       "      <th>1</th>\n",
       "      <td>2019-03-01</td>\n",
       "      <td>https://www.clarin.com/politica/cristina-hijos...</td>\n",
       "      <td>Clarin</td>\n",
       "      <td>NaN</td>\n",
       "      <td>1101346845589233665</td>\n",
       "      <td>271519704</td>\n",
       "    </tr>\n",
       "    <tr>\n",
       "      <th>2</th>\n",
       "      <td>2019-03-01</td>\n",
       "      <td>https://www.clarin.com/politica/cristina-hijos...</td>\n",
       "      <td>Clarin</td>\n",
       "      <td>NaN</td>\n",
       "      <td>1101350580142903296</td>\n",
       "      <td>987494618156675072</td>\n",
       "    </tr>\n",
       "    <tr>\n",
       "      <th>3</th>\n",
       "      <td>2019-03-01</td>\n",
       "      <td>https://www.clarin.com/politica/cristina-hijos...</td>\n",
       "      <td>Clarin</td>\n",
       "      <td>NaN</td>\n",
       "      <td>1101350441126936580</td>\n",
       "      <td>770375532</td>\n",
       "    </tr>\n",
       "    <tr>\n",
       "      <th>4</th>\n",
       "      <td>2019-03-01</td>\n",
       "      <td>https://www.clarin.com/politica/cristina-hijos...</td>\n",
       "      <td>Clarin</td>\n",
       "      <td>NaN</td>\n",
       "      <td>1101353444135370754</td>\n",
       "      <td>740350122974937088</td>\n",
       "    </tr>\n",
       "  </tbody>\n",
       "</table>\n",
       "</div>"
      ],
      "text/plain": [
       "       fecha                                       url_expanded   medio  \\\n",
       "0 2019-03-01  https://www.clarin.com/politica/cristina-hijos...  Clarin   \n",
       "1 2019-03-01  https://www.clarin.com/politica/cristina-hijos...  Clarin   \n",
       "2 2019-03-01  https://www.clarin.com/politica/cristina-hijos...  Clarin   \n",
       "3 2019-03-01  https://www.clarin.com/politica/cristina-hijos...  Clarin   \n",
       "4 2019-03-01  https://www.clarin.com/politica/cristina-hijos...  Clarin   \n",
       "\n",
       "  opinion_dinamic                tw_id              usr_id  \n",
       "0             NaN  1101346910135377920  716295311342321665  \n",
       "1             NaN  1101346845589233665           271519704  \n",
       "2             NaN  1101350580142903296  987494618156675072  \n",
       "3             NaN  1101350441126936580           770375532  \n",
       "4             NaN  1101353444135370754  740350122974937088  "
      ]
     },
     "execution_count": 2,
     "metadata": {},
     "output_type": "execute_result"
    }
   ],
   "source": [
    "# Data with only columns of interest\n",
    "data = pd.read_csv('Data/dataEchoChambers_with_article_info.csv', usecols=['tw_id', 'fecha', 'usr_id', 'opinion_dinamic', 'url_expanded', 'medio'])\n",
    "data['fecha'] = pd.to_datetime(data['fecha'])\n",
    "data.head(n = 5)"
   ]
  },
  {
   "cell_type": "markdown",
   "id": "d76b3adf",
   "metadata": {},
   "source": [
    "### Encoding matrix user - media share\n",
    "User - media shares dataframe based on one-hot encoding of media shares"
   ]
  },
  {
   "cell_type": "code",
   "execution_count": 3,
   "id": "9eedd578",
   "metadata": {},
   "outputs": [],
   "source": [
    "user_media_df = pd.DataFrame()\n",
    "\n",
    "# user_id column\n",
    "user_media_df['usr_id'] = data['usr_id']\n",
    "\n",
    "#creating instance of one-hot-encoder and one-hot encoding of media shares\n",
    "encoder = OneHotEncoder(handle_unknown='ignore')\n",
    "encoder_df = pd.DataFrame(encoder.fit_transform(data[['medio']]).toarray())\n",
    "encoder_df.columns = list(encoder.categories_[0])\n",
    "\n",
    "user_media_df = user_media_df.join(encoder_df)"
   ]
  },
  {
   "cell_type": "code",
   "execution_count": 4,
   "id": "c9d15c95",
   "metadata": {},
   "outputs": [
    {
     "data": {
      "text/html": [
       "<div>\n",
       "<style scoped>\n",
       "    .dataframe tbody tr th:only-of-type {\n",
       "        vertical-align: middle;\n",
       "    }\n",
       "\n",
       "    .dataframe tbody tr th {\n",
       "        vertical-align: top;\n",
       "    }\n",
       "\n",
       "    .dataframe thead th {\n",
       "        text-align: right;\n",
       "    }\n",
       "</style>\n",
       "<table border=\"1\" class=\"dataframe\">\n",
       "  <thead>\n",
       "    <tr style=\"text-align: right;\">\n",
       "      <th></th>\n",
       "      <th>Ambito Financiero</th>\n",
       "      <th>Clarin</th>\n",
       "      <th>Contexto</th>\n",
       "      <th>Diario Registrado</th>\n",
       "      <th>El Cronista</th>\n",
       "      <th>El Destape</th>\n",
       "      <th>El Dia</th>\n",
       "      <th>El Litoral</th>\n",
       "      <th>Infobae</th>\n",
       "      <th>Jornada</th>\n",
       "      <th>La Izquierda Diario</th>\n",
       "      <th>La Nacion</th>\n",
       "      <th>Minuto Uno</th>\n",
       "      <th>Pagina 12</th>\n",
       "      <th>Perfil</th>\n",
       "      <th>Radio Dos</th>\n",
       "      <th>Radio Mitre</th>\n",
       "      <th>TYC Sports</th>\n",
       "      <th>Todo Noticias</th>\n",
       "    </tr>\n",
       "    <tr>\n",
       "      <th>usr_id</th>\n",
       "      <th></th>\n",
       "      <th></th>\n",
       "      <th></th>\n",
       "      <th></th>\n",
       "      <th></th>\n",
       "      <th></th>\n",
       "      <th></th>\n",
       "      <th></th>\n",
       "      <th></th>\n",
       "      <th></th>\n",
       "      <th></th>\n",
       "      <th></th>\n",
       "      <th></th>\n",
       "      <th></th>\n",
       "      <th></th>\n",
       "      <th></th>\n",
       "      <th></th>\n",
       "      <th></th>\n",
       "      <th></th>\n",
       "    </tr>\n",
       "  </thead>\n",
       "  <tbody>\n",
       "    <tr>\n",
       "      <th>12864</th>\n",
       "      <td>0.0</td>\n",
       "      <td>0.0</td>\n",
       "      <td>0.0</td>\n",
       "      <td>0.0</td>\n",
       "      <td>0.0</td>\n",
       "      <td>0.0</td>\n",
       "      <td>0.0</td>\n",
       "      <td>0.0</td>\n",
       "      <td>0.0</td>\n",
       "      <td>0.0</td>\n",
       "      <td>0.0</td>\n",
       "      <td>0.0</td>\n",
       "      <td>0.0</td>\n",
       "      <td>0.0</td>\n",
       "      <td>0.0</td>\n",
       "      <td>0.0</td>\n",
       "      <td>0.0</td>\n",
       "      <td>0.0</td>\n",
       "      <td>1.0</td>\n",
       "    </tr>\n",
       "    <tr>\n",
       "      <th>58613</th>\n",
       "      <td>0.0</td>\n",
       "      <td>0.0</td>\n",
       "      <td>0.0</td>\n",
       "      <td>0.0</td>\n",
       "      <td>0.0</td>\n",
       "      <td>0.0</td>\n",
       "      <td>0.0</td>\n",
       "      <td>0.0</td>\n",
       "      <td>1.0</td>\n",
       "      <td>0.0</td>\n",
       "      <td>0.0</td>\n",
       "      <td>2.0</td>\n",
       "      <td>0.0</td>\n",
       "      <td>0.0</td>\n",
       "      <td>0.0</td>\n",
       "      <td>0.0</td>\n",
       "      <td>0.0</td>\n",
       "      <td>0.0</td>\n",
       "      <td>0.0</td>\n",
       "    </tr>\n",
       "    <tr>\n",
       "      <th>59173</th>\n",
       "      <td>0.0</td>\n",
       "      <td>1.0</td>\n",
       "      <td>0.0</td>\n",
       "      <td>0.0</td>\n",
       "      <td>0.0</td>\n",
       "      <td>0.0</td>\n",
       "      <td>0.0</td>\n",
       "      <td>0.0</td>\n",
       "      <td>0.0</td>\n",
       "      <td>0.0</td>\n",
       "      <td>0.0</td>\n",
       "      <td>1.0</td>\n",
       "      <td>0.0</td>\n",
       "      <td>1.0</td>\n",
       "      <td>0.0</td>\n",
       "      <td>0.0</td>\n",
       "      <td>0.0</td>\n",
       "      <td>0.0</td>\n",
       "      <td>0.0</td>\n",
       "    </tr>\n",
       "    <tr>\n",
       "      <th>624143</th>\n",
       "      <td>0.0</td>\n",
       "      <td>0.0</td>\n",
       "      <td>0.0</td>\n",
       "      <td>0.0</td>\n",
       "      <td>0.0</td>\n",
       "      <td>0.0</td>\n",
       "      <td>0.0</td>\n",
       "      <td>0.0</td>\n",
       "      <td>1.0</td>\n",
       "      <td>0.0</td>\n",
       "      <td>0.0</td>\n",
       "      <td>0.0</td>\n",
       "      <td>0.0</td>\n",
       "      <td>0.0</td>\n",
       "      <td>0.0</td>\n",
       "      <td>0.0</td>\n",
       "      <td>0.0</td>\n",
       "      <td>0.0</td>\n",
       "      <td>0.0</td>\n",
       "    </tr>\n",
       "    <tr>\n",
       "      <th>760916</th>\n",
       "      <td>0.0</td>\n",
       "      <td>0.0</td>\n",
       "      <td>0.0</td>\n",
       "      <td>0.0</td>\n",
       "      <td>0.0</td>\n",
       "      <td>0.0</td>\n",
       "      <td>0.0</td>\n",
       "      <td>0.0</td>\n",
       "      <td>1.0</td>\n",
       "      <td>0.0</td>\n",
       "      <td>0.0</td>\n",
       "      <td>1.0</td>\n",
       "      <td>0.0</td>\n",
       "      <td>0.0</td>\n",
       "      <td>0.0</td>\n",
       "      <td>0.0</td>\n",
       "      <td>0.0</td>\n",
       "      <td>0.0</td>\n",
       "      <td>0.0</td>\n",
       "    </tr>\n",
       "  </tbody>\n",
       "</table>\n",
       "</div>"
      ],
      "text/plain": [
       "        Ambito Financiero  Clarin  Contexto  Diario Registrado  El Cronista  \\\n",
       "usr_id                                                                        \n",
       "12864                 0.0     0.0       0.0                0.0          0.0   \n",
       "58613                 0.0     0.0       0.0                0.0          0.0   \n",
       "59173                 0.0     1.0       0.0                0.0          0.0   \n",
       "624143                0.0     0.0       0.0                0.0          0.0   \n",
       "760916                0.0     0.0       0.0                0.0          0.0   \n",
       "\n",
       "        El Destape  El Dia  El Litoral  Infobae  Jornada  La Izquierda Diario  \\\n",
       "usr_id                                                                          \n",
       "12864          0.0     0.0         0.0      0.0      0.0                  0.0   \n",
       "58613          0.0     0.0         0.0      1.0      0.0                  0.0   \n",
       "59173          0.0     0.0         0.0      0.0      0.0                  0.0   \n",
       "624143         0.0     0.0         0.0      1.0      0.0                  0.0   \n",
       "760916         0.0     0.0         0.0      1.0      0.0                  0.0   \n",
       "\n",
       "        La Nacion  Minuto Uno  Pagina 12  Perfil  Radio Dos  Radio Mitre  \\\n",
       "usr_id                                                                     \n",
       "12864         0.0         0.0        0.0     0.0        0.0          0.0   \n",
       "58613         2.0         0.0        0.0     0.0        0.0          0.0   \n",
       "59173         1.0         0.0        1.0     0.0        0.0          0.0   \n",
       "624143        0.0         0.0        0.0     0.0        0.0          0.0   \n",
       "760916        1.0         0.0        0.0     0.0        0.0          0.0   \n",
       "\n",
       "        TYC Sports  Todo Noticias  \n",
       "usr_id                             \n",
       "12864          0.0            1.0  \n",
       "58613          0.0            0.0  \n",
       "59173          0.0            0.0  \n",
       "624143         0.0            0.0  \n",
       "760916         0.0            0.0  "
      ]
     },
     "execution_count": 4,
     "metadata": {},
     "output_type": "execute_result"
    }
   ],
   "source": [
    "user_media_df = user_media_df.groupby('usr_id').sum()\n",
    "user_media_df.head(n = 5)"
   ]
  },
  {
   "cell_type": "code",
   "execution_count": 5,
   "id": "dec736b0-1816-497c-a83e-8103808c0cfa",
   "metadata": {},
   "outputs": [],
   "source": [
    "ppal_media = ['Clarin', 'La Nacion', 'Pagina 12', 'Todo Noticias', 'Infobae', 'El Destape']\n",
    "ppal_media += ['Ambito Financiero', 'Minuto Uno', 'Perfil', 'El Cronista', 'Radio Mitre', 'El Dia']\n",
    "\n",
    "user_media_df_filtrado = user_media_df[ppal_media].copy()\n",
    "user_media_df_filtrado = user_media_df_filtrado[user_media_df_filtrado.apply(np.count_nonzero, axis = 1) > 0].copy()"
   ]
  },
  {
   "cell_type": "code",
   "execution_count": 6,
   "id": "45a75c6b",
   "metadata": {},
   "outputs": [],
   "source": [
    "# Matrix of user - media shared\n",
    "A = user_media_df_filtrado.to_numpy()"
   ]
  },
  {
   "cell_type": "code",
   "execution_count": 7,
   "id": "20b5d235",
   "metadata": {},
   "outputs": [],
   "source": [
    "score_users = np.random.normal(loc = 0, scale = 1.00, size = A.shape[0])\n",
    "score_users = (score_users - np.mean(score_users))/np.std(score_users)\n",
    "\n",
    "for iteration in range(50):\n",
    "    \n",
    "    score_media = np.array([np.average(score_users, weights=A[:,i]) for i in range(A.shape[1])])\n",
    "    score_users = np.array([np.average(score_media, weights=A[j,:]) for j in range(A.shape[0])])\n",
    "\n",
    "    score_users = (score_users - np.mean(score_users))/np.std(score_users)"
   ]
  },
  {
   "cell_type": "code",
   "execution_count": 8,
   "id": "adbdec94",
   "metadata": {},
   "outputs": [
    {
     "name": "stdout",
     "output_type": "stream",
     "text": [
      "[['Clarin', 0.609661999211148], ['La Nacion', 0.5312879166183917], ['Pagina 12', -1.3626397807373856], ['Todo Noticias', 0.6419815284240711], ['Infobae', 0.39850498120660227], ['El Destape', -1.4959403799483069], ['Ambito Financiero', -0.5587326463353376], ['Minuto Uno', -1.291277582825876], ['Perfil', -0.05070000145797923], ['El Cronista', 0.11570807397797654], ['Radio Mitre', 1.3257852341732044], ['El Dia', 0.30968440723347196]]\n"
     ]
    }
   ],
   "source": [
    "score_media = np.array([np.average(score_users, weights=A[:,i]) for i in range(A.shape[1])])\n",
    "media_score = [[user_media_df_filtrado.columns[i], score_media[i]] for i in range(len(score_media))]\n",
    "print(media_score)"
   ]
  },
  {
   "cell_type": "code",
   "execution_count": 9,
   "id": "92032f19",
   "metadata": {},
   "outputs": [
    {
     "name": "stdout",
     "output_type": "stream",
     "text": [
      "[-1.75602129  0.8704686 ]\n"
     ]
    },
    {
     "data": {
      "image/png": "[encoded data removed]",
      "text/plain": [
       "<Figure size 1000x400 with 2 Axes>"
      ]
     },
     "metadata": {},
     "output_type": "display_data"
    }
   ],
   "source": [
    "# Scores of the users\n",
    "fig, ax = plt.subplots(dpi = 200, figsize=(5,2))\n",
    "ax.hist(score_users, bins = np.arange(-2.5, 2.51, 0.25), alpha = 0.50, color = 'g', density = True)\n",
    "ax.set_xlabel(r'MSI', size = 16)\n",
    "\n",
    "ax2 = ax.twinx()\n",
    "for ms in media_score:\n",
    "    ax2.axvline(ms[1], color = 'grey', alpha = 0.65)\n",
    "    if ms[0] != 'Clarin':\n",
    "        ax2.text(x = ms[1]-0.02, y = 0.5, s=ms[0], rotation = 90, size = 6)\n",
    "    else: \n",
    "        ax2.text(x = ms[1]-0.02, y = 0.25, s=ms[0], rotation = 90, size = 6)\n",
    "ax2.set_yticks([])\n",
    "ax.set_xlim(np.quantile(score_users, q = [0.005, 0.995]) + np.array([-0.55, 0.55]))\n",
    "print(np.quantile(score_users, q = [0.005, 0.995]))\n",
    "plt.show()"
   ]
  },
  {
   "cell_type": "code",
   "execution_count": 10,
   "id": "fb18e75a",
   "metadata": {},
   "outputs": [],
   "source": [
    "user_media_df_filtrado['score'] = score_users"
   ]
  },
  {
   "cell_type": "markdown",
   "id": "933639cb-882d-42a7-900c-c1f112f37521",
   "metadata": {},
   "source": [
    "### Ideology users"
   ]
  },
  {
   "cell_type": "code",
   "execution_count": 11,
   "id": "2d58581c-e23a-4ac0-ba74-13b8b534b9a7",
   "metadata": {},
   "outputs": [],
   "source": [
    "data_opinion = data[data.opinion_dinamic.isna() != True].copy()"
   ]
  },
  {
   "cell_type": "code",
   "execution_count": 12,
   "id": "281634d0-e94e-4d06-923f-cfaeecc79e4d",
   "metadata": {},
   "outputs": [],
   "source": [
    "data_opinion['opinion_valence'] = data_opinion.apply(lambda x: 1 if x['opinion_dinamic'] == 'MP' else -1, axis = 1)"
   ]
  },
  {
   "cell_type": "code",
   "execution_count": 13,
   "id": "f9945c98-02c2-49dd-a3c2-5c3d4c9cbdfc",
   "metadata": {},
   "outputs": [],
   "source": [
    "user_valence = data_opinion.groupby('usr_id')['opinion_valence'].mean()"
   ]
  },
  {
   "cell_type": "code",
   "execution_count": 14,
   "id": "c8db6d0d-7703-468e-9315-85f6c9abe6ce",
   "metadata": {},
   "outputs": [
    {
     "data": {
      "text/plain": [
       "usr_id\n",
       "58613                  0.000000\n",
       "760916                -1.000000\n",
       "778189                 1.000000\n",
       "780281                -1.000000\n",
       "788034                -1.000000\n",
       "                         ...   \n",
       "1155206065123934208   -1.000000\n",
       "1155457420652679168    1.000000\n",
       "1155496275757998080    1.000000\n",
       "1155580337990316035    0.655172\n",
       "1155962950068461568    1.000000\n",
       "Name: opinion_valence, Length: 31927, dtype: float64"
      ]
     },
     "execution_count": 14,
     "metadata": {},
     "output_type": "execute_result"
    }
   ],
   "source": [
    "user_valence"
   ]
  },
  {
   "cell_type": "code",
   "execution_count": 15,
   "id": "b59c86d3-83af-4332-8ec2-a42ac548edaf",
   "metadata": {},
   "outputs": [],
   "source": [
    "score_users_df = user_media_df_filtrado['score'].copy()"
   ]
  },
  {
   "cell_type": "code",
   "execution_count": 16,
   "id": "30e1327f-4f5e-46f1-815b-8e8d1d41ffb8",
   "metadata": {},
   "outputs": [
    {
     "data": {
      "text/plain": [
       "usr_id\n",
       "12864                  0.861894\n",
       "58613                  0.672147\n",
       "59173                 -0.014711\n",
       "624143                 0.563749\n",
       "760916                 0.645047\n",
       "                         ...   \n",
       "1188534634503692288   -1.756021\n",
       "1188553037721358337   -1.756021\n",
       "1188581572066381824   -1.674408\n",
       "1188584446368321536   -1.756021\n",
       "1188594220606640134    0.563749\n",
       "Name: score, Length: 120626, dtype: float64"
      ]
     },
     "execution_count": 16,
     "metadata": {},
     "output_type": "execute_result"
    }
   ],
   "source": [
    "score_users_df"
   ]
  },
  {
   "cell_type": "code",
   "execution_count": 17,
   "id": "dcc1b19e-d67c-4935-8bc2-9f8cfa7dd1ff",
   "metadata": {},
   "outputs": [],
   "source": [
    "users_opinion_score = score_users_df.reset_index().merge(user_valence.reset_index(), on='usr_id')"
   ]
  },
  {
   "cell_type": "code",
   "execution_count": 18,
   "id": "4a6f3b59-ddfc-479a-8ef0-096f38742f3d",
   "metadata": {},
   "outputs": [
    {
     "data": {
      "text/html": [
       "<div>\n",
       "<style scoped>\n",
       "    .dataframe tbody tr th:only-of-type {\n",
       "        vertical-align: middle;\n",
       "    }\n",
       "\n",
       "    .dataframe tbody tr th {\n",
       "        vertical-align: top;\n",
       "    }\n",
       "\n",
       "    .dataframe thead th {\n",
       "        text-align: right;\n",
       "    }\n",
       "</style>\n",
       "<table border=\"1\" class=\"dataframe\">\n",
       "  <thead>\n",
       "    <tr style=\"text-align: right;\">\n",
       "      <th></th>\n",
       "      <th>score</th>\n",
       "      <th>opinion_valence</th>\n",
       "    </tr>\n",
       "  </thead>\n",
       "  <tbody>\n",
       "    <tr>\n",
       "      <th>score</th>\n",
       "      <td>1.000000</td>\n",
       "      <td>0.537444</td>\n",
       "    </tr>\n",
       "    <tr>\n",
       "      <th>opinion_valence</th>\n",
       "      <td>0.537444</td>\n",
       "      <td>1.000000</td>\n",
       "    </tr>\n",
       "  </tbody>\n",
       "</table>\n",
       "</div>"
      ],
      "text/plain": [
       "                    score  opinion_valence\n",
       "score            1.000000         0.537444\n",
       "opinion_valence  0.537444         1.000000"
      ]
     },
     "execution_count": 18,
     "metadata": {},
     "output_type": "execute_result"
    }
   ],
   "source": [
    "users_opinion_score[['score', 'opinion_valence']].corr('spearman')"
   ]
  },
  {
   "cell_type": "code",
   "execution_count": 53,
   "id": "2d61a3c8-198f-4bd2-837c-be9feaaf2171",
   "metadata": {},
   "outputs": [
    {
     "name": "stderr",
     "output_type": "stream",
     "text": [
      "/tmp/ipykernel_139073/1170730584.py:12: UserWarning: The figure layout has changed to tight\n",
      "  plt.tight_layout()\n"
     ]
    },
    {
     "data": {
      "text/plain": [
       "<Figure size 1500x1500 with 0 Axes>"
      ]
     },
     "metadata": {},
     "output_type": "display_data"
    },
    {
     "data": {
      "image/png": "[encoded data removed]",
      "text/plain": [
       "<Figure size 600x600 with 3 Axes>"
      ]
     },
     "metadata": {},
     "output_type": "display_data"
    }
   ],
   "source": [
    "plt.figure(dpi = 300, figsize=(5,5))\n",
    "\n",
    "ax1 = sns.jointplot(x = users_opinion_score['score'], y = users_opinion_score['opinion_valence'], marginal_kws=dict(bins = np.arange(-2.25, 2.26, 0.50)),color='grey')\n",
    "ax1.ax_joint.cla()\n",
    "plt.sca(ax1.ax_joint)\n",
    "plt.hist2d(users_opinion_score['score'], users_opinion_score['opinion_valence'], bins = [np.arange(-2.25, 2.26, 0.50), np.arange(-1.25, 1.26, 0.50)], cmap = 'magma', vmin = 0.00, vmax = 10000) #norm=mcolors.PowerNorm(0.3), cmap = 'magma')\n",
    "\n",
    "#plt.xlim(np.quantile(users_opinion_score['score'].to_list(), q = [0.005, 0.995]) + [-0.65, 0.65])\n",
    "#plt.ylim([-1.25, 1.25])\n",
    "plt.xlabel('MSI', size = 16)\n",
    "plt.ylabel('Ideological valence', size = 12)\n",
    "plt.tight_layout()\n",
    "plt.savefig('Results/MSI_ideology_valence.png')\n",
    "plt.savefig('Results/MSI_ideology_valence.pdf')\n",
    "plt.show()"
   ]
  },
  {
   "cell_type": "code",
   "execution_count": 20,
   "id": "ce30d586-7cf1-4eb9-af72-ea5345f323a5",
   "metadata": {},
   "outputs": [
    {
     "data": {
      "image/png": "[encoded data removed]",
      "text/plain": [
       "<Figure size 1500x900 with 1 Axes>"
      ]
     },
     "metadata": {},
     "output_type": "display_data"
    }
   ],
   "source": [
    "# Scores of the users\n",
    "plt.figure(dpi = 300, figsize = (5,3))\n",
    "plt.axes([0.15, 0.25, 0.75, 0.70])\n",
    "plt.hist(users_opinion_score['opinion_valence'], bins = 9, alpha = 0.50, color = 'g', density = True)\n",
    "plt.xlim([-1, 1])\n",
    "plt.xlabel(r'Ideology valence', size = 10)\n",
    "plt.xticks(np.arange(-1, 1.01, 0.5))\n",
    "plt.savefig('Results/Ideology_valence.png')\n",
    "plt.savefig('Results/Ideology_valence.pdf')\n",
    "plt.show()"
   ]
  },
  {
   "cell_type": "code",
   "execution_count": 22,
   "id": "ba40ac6a",
   "metadata": {},
   "outputs": [],
   "source": [
    "users_opinion_score.to_csv('Users_ideological_valence.csv', index = False)"
   ]
  },
  {
   "cell_type": "code",
   "execution_count": null,
   "id": "667e15ce",
   "metadata": {},
   "outputs": [],
   "source": []
  }
 ],
 "metadata": {
  "kernelspec": {
   "display_name": "Python 3 (ipykernel)",
   "language": "python",
   "name": "python3"
  },
  "language_info": {
   "codemirror_mode": {
    "name": "ipython",
    "version": 3
   },
   "file_extension": ".py",
   "mimetype": "text/x-python",
   "name": "python",
   "nbconvert_exporter": "python",
   "pygments_lexer": "ipython3",
   "version": "3.8.10"
  }
 },
 "nbformat": 4,
 "nbformat_minor": 5
}
