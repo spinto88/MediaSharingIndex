{
 "cells": [
  {
   "cell_type": "markdown",
   "id": "35c2ff33",
   "metadata": {},
   "source": [
    "### Latent ideology of users\n",
    "\n",
    "LI is based on the media outlet shared by each user, therefore the ideology reflects the group of media an user shares."
   ]
  },
  {
   "cell_type": "code",
   "execution_count": 1,
   "id": "6cf18a9f",
   "metadata": {},
   "outputs": [],
   "source": [
    "import numpy as np\n",
    "import pandas as pd\n",
    "import matplotlib.pyplot as plt\n",
    "from sklearn.preprocessing import OneHotEncoder"
   ]
  },
  {
   "cell_type": "code",
   "execution_count": 2,
   "id": "d1d1d332",
   "metadata": {
    "scrolled": true
   },
   "outputs": [
    {
     "data": {
      "text/html": [
       "<div>\n",
       "<style scoped>\n",
       "    .dataframe tbody tr th:only-of-type {\n",
       "        vertical-align: middle;\n",
       "    }\n",
       "\n",
       "    .dataframe tbody tr th {\n",
       "        vertical-align: top;\n",
       "    }\n",
       "\n",
       "    .dataframe thead th {\n",
       "        text-align: right;\n",
       "    }\n",
       "</style>\n",
       "<table border=\"1\" class=\"dataframe\">\n",
       "  <thead>\n",
       "    <tr style=\"text-align: right;\">\n",
       "      <th></th>\n",
       "      <th>fecha</th>\n",
       "      <th>url_expanded</th>\n",
       "      <th>medio</th>\n",
       "      <th>opinion_dinamic</th>\n",
       "      <th>tw_id</th>\n",
       "      <th>usr_id</th>\n",
       "    </tr>\n",
       "  </thead>\n",
       "  <tbody>\n",
       "    <tr>\n",
       "      <th>0</th>\n",
       "      <td>2019-03-01</td>\n",
       "      <td>https://www.clarin.com/politica/cristina-hijos...</td>\n",
       "      <td>Clarin</td>\n",
       "      <td>NaN</td>\n",
       "      <td>1101346910135377920</td>\n",
       "      <td>716295311342321665</td>\n",
       "    </tr>\n",
       "    <tr>\n",
       "      <th>1</th>\n",
       "      <td>2019-03-01</td>\n",
       "      <td>https://www.clarin.com/politica/cristina-hijos...</td>\n",
       "      <td>Clarin</td>\n",
       "      <td>NaN</td>\n",
       "      <td>1101346845589233665</td>\n",
       "      <td>271519704</td>\n",
       "    </tr>\n",
       "    <tr>\n",
       "      <th>2</th>\n",
       "      <td>2019-03-01</td>\n",
       "      <td>https://www.clarin.com/politica/cristina-hijos...</td>\n",
       "      <td>Clarin</td>\n",
       "      <td>NaN</td>\n",
       "      <td>1101350580142903296</td>\n",
       "      <td>987494618156675072</td>\n",
       "    </tr>\n",
       "    <tr>\n",
       "      <th>3</th>\n",
       "      <td>2019-03-01</td>\n",
       "      <td>https://www.clarin.com/politica/cristina-hijos...</td>\n",
       "      <td>Clarin</td>\n",
       "      <td>NaN</td>\n",
       "      <td>1101350441126936580</td>\n",
       "      <td>770375532</td>\n",
       "    </tr>\n",
       "    <tr>\n",
       "      <th>4</th>\n",
       "      <td>2019-03-01</td>\n",
       "      <td>https://www.clarin.com/politica/cristina-hijos...</td>\n",
       "      <td>Clarin</td>\n",
       "      <td>NaN</td>\n",
       "      <td>1101353444135370754</td>\n",
       "      <td>740350122974937088</td>\n",
       "    </tr>\n",
       "  </tbody>\n",
       "</table>\n",
       "</div>"
      ],
      "text/plain": [
       "        fecha                                       url_expanded   medio  \\\n",
       "0  2019-03-01  https://www.clarin.com/politica/cristina-hijos...  Clarin   \n",
       "1  2019-03-01  https://www.clarin.com/politica/cristina-hijos...  Clarin   \n",
       "2  2019-03-01  https://www.clarin.com/politica/cristina-hijos...  Clarin   \n",
       "3  2019-03-01  https://www.clarin.com/politica/cristina-hijos...  Clarin   \n",
       "4  2019-03-01  https://www.clarin.com/politica/cristina-hijos...  Clarin   \n",
       "\n",
       "  opinion_dinamic                tw_id              usr_id  \n",
       "0             NaN  1101346910135377920  716295311342321665  \n",
       "1             NaN  1101346845589233665           271519704  \n",
       "2             NaN  1101350580142903296  987494618156675072  \n",
       "3             NaN  1101350441126936580           770375532  \n",
       "4             NaN  1101353444135370754  740350122974937088  "
      ]
     },
     "execution_count": 2,
     "metadata": {},
     "output_type": "execute_result"
    }
   ],
   "source": [
    "# Data with only columns of interest\n",
    "data = pd.read_csv('Data/dataEchoChambers.csv', usecols=['tw_id', 'fecha', 'usr_id', 'opinion_dinamic', 'url_expanded', 'medio'])\n",
    "data.head(n = 5)"
   ]
  },
  {
   "cell_type": "markdown",
   "id": "d76b3adf",
   "metadata": {},
   "source": [
    "### Encoding matrix user - media share\n",
    "User - media shares dataframe based on one-hot encoding of media shares"
   ]
  },
  {
   "cell_type": "code",
   "execution_count": 3,
   "id": "9eedd578",
   "metadata": {},
   "outputs": [],
   "source": [
    "user_media_df = pd.DataFrame()\n",
    "\n",
    "# user_id column\n",
    "user_media_df['usr_id'] = data['usr_id']\n",
    "\n",
    "#creating instance of one-hot-encoder and one-hot encoding of media shares\n",
    "encoder = OneHotEncoder(handle_unknown='ignore')\n",
    "encoder_df = pd.DataFrame(encoder.fit_transform(data[['medio']]).toarray())\n",
    "encoder_df.columns = list(encoder.categories_[0])\n",
    "\n",
    "user_media_df = user_media_df.join(encoder_df)"
   ]
  },
  {
   "cell_type": "code",
   "execution_count": 4,
   "id": "c9d15c95",
   "metadata": {},
   "outputs": [
    {
     "data": {
      "text/html": [
       "<div>\n",
       "<style scoped>\n",
       "    .dataframe tbody tr th:only-of-type {\n",
       "        vertical-align: middle;\n",
       "    }\n",
       "\n",
       "    .dataframe tbody tr th {\n",
       "        vertical-align: top;\n",
       "    }\n",
       "\n",
       "    .dataframe thead th {\n",
       "        text-align: right;\n",
       "    }\n",
       "</style>\n",
       "<table border=\"1\" class=\"dataframe\">\n",
       "  <thead>\n",
       "    <tr style=\"text-align: right;\">\n",
       "      <th></th>\n",
       "      <th>Ambito Financiero</th>\n",
       "      <th>Clarin</th>\n",
       "      <th>Contexto</th>\n",
       "      <th>Diario Registrado</th>\n",
       "      <th>El Cronista</th>\n",
       "      <th>El Destape</th>\n",
       "      <th>El Dia</th>\n",
       "      <th>El Litoral</th>\n",
       "      <th>Infobae</th>\n",
       "      <th>Jornada</th>\n",
       "      <th>La Izquierda Diario</th>\n",
       "      <th>La Nacion</th>\n",
       "      <th>Minuto Uno</th>\n",
       "      <th>Pagina 12</th>\n",
       "      <th>Perfil</th>\n",
       "      <th>Radio Dos</th>\n",
       "      <th>Radio Mitre</th>\n",
       "      <th>TYC Sports</th>\n",
       "      <th>Todo Noticias</th>\n",
       "    </tr>\n",
       "    <tr>\n",
       "      <th>usr_id</th>\n",
       "      <th></th>\n",
       "      <th></th>\n",
       "      <th></th>\n",
       "      <th></th>\n",
       "      <th></th>\n",
       "      <th></th>\n",
       "      <th></th>\n",
       "      <th></th>\n",
       "      <th></th>\n",
       "      <th></th>\n",
       "      <th></th>\n",
       "      <th></th>\n",
       "      <th></th>\n",
       "      <th></th>\n",
       "      <th></th>\n",
       "      <th></th>\n",
       "      <th></th>\n",
       "      <th></th>\n",
       "      <th></th>\n",
       "    </tr>\n",
       "  </thead>\n",
       "  <tbody>\n",
       "    <tr>\n",
       "      <th>12864</th>\n",
       "      <td>0.0</td>\n",
       "      <td>0.0</td>\n",
       "      <td>0.0</td>\n",
       "      <td>0.0</td>\n",
       "      <td>0.0</td>\n",
       "      <td>0.0</td>\n",
       "      <td>0.0</td>\n",
       "      <td>0.0</td>\n",
       "      <td>0.0</td>\n",
       "      <td>0.0</td>\n",
       "      <td>0.0</td>\n",
       "      <td>0.0</td>\n",
       "      <td>0.0</td>\n",
       "      <td>0.0</td>\n",
       "      <td>0.0</td>\n",
       "      <td>0.0</td>\n",
       "      <td>0.0</td>\n",
       "      <td>0.0</td>\n",
       "      <td>1.0</td>\n",
       "    </tr>\n",
       "    <tr>\n",
       "      <th>58613</th>\n",
       "      <td>0.0</td>\n",
       "      <td>0.0</td>\n",
       "      <td>0.0</td>\n",
       "      <td>0.0</td>\n",
       "      <td>0.0</td>\n",
       "      <td>0.0</td>\n",
       "      <td>0.0</td>\n",
       "      <td>0.0</td>\n",
       "      <td>1.0</td>\n",
       "      <td>0.0</td>\n",
       "      <td>0.0</td>\n",
       "      <td>2.0</td>\n",
       "      <td>0.0</td>\n",
       "      <td>0.0</td>\n",
       "      <td>0.0</td>\n",
       "      <td>0.0</td>\n",
       "      <td>0.0</td>\n",
       "      <td>0.0</td>\n",
       "      <td>0.0</td>\n",
       "    </tr>\n",
       "    <tr>\n",
       "      <th>59173</th>\n",
       "      <td>0.0</td>\n",
       "      <td>1.0</td>\n",
       "      <td>0.0</td>\n",
       "      <td>0.0</td>\n",
       "      <td>0.0</td>\n",
       "      <td>0.0</td>\n",
       "      <td>0.0</td>\n",
       "      <td>0.0</td>\n",
       "      <td>0.0</td>\n",
       "      <td>0.0</td>\n",
       "      <td>0.0</td>\n",
       "      <td>1.0</td>\n",
       "      <td>0.0</td>\n",
       "      <td>1.0</td>\n",
       "      <td>0.0</td>\n",
       "      <td>0.0</td>\n",
       "      <td>0.0</td>\n",
       "      <td>0.0</td>\n",
       "      <td>0.0</td>\n",
       "    </tr>\n",
       "    <tr>\n",
       "      <th>624143</th>\n",
       "      <td>0.0</td>\n",
       "      <td>0.0</td>\n",
       "      <td>0.0</td>\n",
       "      <td>0.0</td>\n",
       "      <td>0.0</td>\n",
       "      <td>0.0</td>\n",
       "      <td>0.0</td>\n",
       "      <td>0.0</td>\n",
       "      <td>1.0</td>\n",
       "      <td>0.0</td>\n",
       "      <td>0.0</td>\n",
       "      <td>0.0</td>\n",
       "      <td>0.0</td>\n",
       "      <td>0.0</td>\n",
       "      <td>0.0</td>\n",
       "      <td>0.0</td>\n",
       "      <td>0.0</td>\n",
       "      <td>0.0</td>\n",
       "      <td>0.0</td>\n",
       "    </tr>\n",
       "    <tr>\n",
       "      <th>760916</th>\n",
       "      <td>0.0</td>\n",
       "      <td>0.0</td>\n",
       "      <td>0.0</td>\n",
       "      <td>0.0</td>\n",
       "      <td>0.0</td>\n",
       "      <td>0.0</td>\n",
       "      <td>0.0</td>\n",
       "      <td>0.0</td>\n",
       "      <td>1.0</td>\n",
       "      <td>0.0</td>\n",
       "      <td>0.0</td>\n",
       "      <td>1.0</td>\n",
       "      <td>0.0</td>\n",
       "      <td>0.0</td>\n",
       "      <td>0.0</td>\n",
       "      <td>0.0</td>\n",
       "      <td>0.0</td>\n",
       "      <td>0.0</td>\n",
       "      <td>0.0</td>\n",
       "    </tr>\n",
       "  </tbody>\n",
       "</table>\n",
       "</div>"
      ],
      "text/plain": [
       "        Ambito Financiero  Clarin  Contexto  Diario Registrado  El Cronista  \\\n",
       "usr_id                                                                        \n",
       "12864                 0.0     0.0       0.0                0.0          0.0   \n",
       "58613                 0.0     0.0       0.0                0.0          0.0   \n",
       "59173                 0.0     1.0       0.0                0.0          0.0   \n",
       "624143                0.0     0.0       0.0                0.0          0.0   \n",
       "760916                0.0     0.0       0.0                0.0          0.0   \n",
       "\n",
       "        El Destape  El Dia  El Litoral  Infobae  Jornada  La Izquierda Diario  \\\n",
       "usr_id                                                                          \n",
       "12864          0.0     0.0         0.0      0.0      0.0                  0.0   \n",
       "58613          0.0     0.0         0.0      1.0      0.0                  0.0   \n",
       "59173          0.0     0.0         0.0      0.0      0.0                  0.0   \n",
       "624143         0.0     0.0         0.0      1.0      0.0                  0.0   \n",
       "760916         0.0     0.0         0.0      1.0      0.0                  0.0   \n",
       "\n",
       "        La Nacion  Minuto Uno  Pagina 12  Perfil  Radio Dos  Radio Mitre  \\\n",
       "usr_id                                                                     \n",
       "12864         0.0         0.0        0.0     0.0        0.0          0.0   \n",
       "58613         2.0         0.0        0.0     0.0        0.0          0.0   \n",
       "59173         1.0         0.0        1.0     0.0        0.0          0.0   \n",
       "624143        0.0         0.0        0.0     0.0        0.0          0.0   \n",
       "760916        1.0         0.0        0.0     0.0        0.0          0.0   \n",
       "\n",
       "        TYC Sports  Todo Noticias  \n",
       "usr_id                             \n",
       "12864          0.0            1.0  \n",
       "58613          0.0            0.0  \n",
       "59173          0.0            0.0  \n",
       "624143         0.0            0.0  \n",
       "760916         0.0            0.0  "
      ]
     },
     "execution_count": 4,
     "metadata": {},
     "output_type": "execute_result"
    }
   ],
   "source": [
    "user_media_df = user_media_df.groupby('usr_id').sum()\n",
    "user_media_df.head(n = 5)"
   ]
  },
  {
   "cell_type": "markdown",
   "id": "dac788a0",
   "metadata": {},
   "source": [
    "### Media share index\n",
    "\n",
    "Correspondence analysis over the data of user - media share"
   ]
  },
  {
   "cell_type": "code",
   "execution_count": 5,
   "id": "bbe2ec47",
   "metadata": {},
   "outputs": [],
   "source": [
    "# correspondence analysis function\n",
    "def calculate_scores(A, it=15):\n",
    "    P = (1/np.sum(A))*A #Nomalized natrix\n",
    "\n",
    "    #Defining needings for standardizing\n",
    "    n_col = np.shape(P)[1]\n",
    "    n_row = np.shape(P)[0]\n",
    "    r = np.matmul(P, np.ones((n_col,))) #rows\n",
    "    c = np.matmul(np.ones((n_row,)), P) #columns\n",
    "    r2 = r**(-0.5)\n",
    "    c2 = c**(-0.5)\n",
    "    Dr2 = np.diag(r2)\n",
    "    Dc2 = np.diag(c2)\n",
    "    r_t = np.array([r]).transpose()\n",
    "    c_new = np.array([c])\n",
    "\n",
    "    #Standardized residuals\n",
    "    S = np.matmul(np.matmul(Dr2, P - np.matmul(r_t,c_new)),Dc2)\n",
    "    #Truncated SVD\n",
    "    #U, sig, Vt = randomized_svd(S, n_components=1, n_iter=it, random_state=None)\n",
    "\n",
    "    #FULL SVD\n",
    "    U, sig, Vt = np.linalg.svd(S, full_matrices=False)\n",
    "\n",
    "    #scores\n",
    "    X_dim1 = np.matmul(Dr2,U)[:,0] #scores matrix\n",
    "    scores = (-1 + 2 * (X_dim1-np.min(X_dim1))/np.ptp(X_dim1)) #scaled\n",
    "    return scores"
   ]
  },
  {
   "cell_type": "markdown",
   "id": "c86e3671",
   "metadata": {},
   "source": [
    "#### Aplication over data\n",
    "\n",
    "Preprocessing: we take the principal media outlets and those users that share at least two different principal media outlets"
   ]
  },
  {
   "cell_type": "code",
   "execution_count": 6,
   "id": "6dc51766",
   "metadata": {},
   "outputs": [],
   "source": [
    "user_media_df_filtrado = user_media_df[['Clarin', 'La Nacion', 'Pagina 12', 'Todo Noticias', 'Infobae', 'El Destape']].copy()"
   ]
  },
  {
   "cell_type": "code",
   "execution_count": 7,
   "id": "2b2c0eb4",
   "metadata": {},
   "outputs": [
    {
     "name": "stdout",
     "output_type": "stream",
     "text": [
      "110343\n"
     ]
    }
   ],
   "source": [
    "potential_users_msi_defined = user_media_df_filtrado[user_media_df_filtrado.apply(np.count_nonzero, axis = 1) > 0].shape[0]\n",
    "print(potential_users_msi_defined)"
   ]
  },
  {
   "cell_type": "code",
   "execution_count": 8,
   "id": "0a0ab678",
   "metadata": {},
   "outputs": [],
   "source": [
    "user_media_df_filtrado = user_media_df_filtrado[user_media_df_filtrado.apply(np.count_nonzero, axis = 1) > 1].copy()"
   ]
  },
  {
   "cell_type": "code",
   "execution_count": 9,
   "id": "61f1e9e0",
   "metadata": {},
   "outputs": [
    {
     "data": {
      "text/html": [
       "<div>\n",
       "<style scoped>\n",
       "    .dataframe tbody tr th:only-of-type {\n",
       "        vertical-align: middle;\n",
       "    }\n",
       "\n",
       "    .dataframe tbody tr th {\n",
       "        vertical-align: top;\n",
       "    }\n",
       "\n",
       "    .dataframe thead th {\n",
       "        text-align: right;\n",
       "    }\n",
       "</style>\n",
       "<table border=\"1\" class=\"dataframe\">\n",
       "  <thead>\n",
       "    <tr style=\"text-align: right;\">\n",
       "      <th></th>\n",
       "      <th>Clarin</th>\n",
       "      <th>La Nacion</th>\n",
       "      <th>Pagina 12</th>\n",
       "      <th>Todo Noticias</th>\n",
       "      <th>Infobae</th>\n",
       "      <th>El Destape</th>\n",
       "    </tr>\n",
       "    <tr>\n",
       "      <th>usr_id</th>\n",
       "      <th></th>\n",
       "      <th></th>\n",
       "      <th></th>\n",
       "      <th></th>\n",
       "      <th></th>\n",
       "      <th></th>\n",
       "    </tr>\n",
       "  </thead>\n",
       "  <tbody>\n",
       "    <tr>\n",
       "      <th>58613</th>\n",
       "      <td>0.0</td>\n",
       "      <td>2.0</td>\n",
       "      <td>0.0</td>\n",
       "      <td>0.0</td>\n",
       "      <td>1.0</td>\n",
       "      <td>0.0</td>\n",
       "    </tr>\n",
       "    <tr>\n",
       "      <th>59173</th>\n",
       "      <td>1.0</td>\n",
       "      <td>1.0</td>\n",
       "      <td>1.0</td>\n",
       "      <td>0.0</td>\n",
       "      <td>0.0</td>\n",
       "      <td>0.0</td>\n",
       "    </tr>\n",
       "    <tr>\n",
       "      <th>760916</th>\n",
       "      <td>0.0</td>\n",
       "      <td>1.0</td>\n",
       "      <td>0.0</td>\n",
       "      <td>0.0</td>\n",
       "      <td>1.0</td>\n",
       "      <td>0.0</td>\n",
       "    </tr>\n",
       "    <tr>\n",
       "      <th>778189</th>\n",
       "      <td>3.0</td>\n",
       "      <td>2.0</td>\n",
       "      <td>0.0</td>\n",
       "      <td>0.0</td>\n",
       "      <td>0.0</td>\n",
       "      <td>0.0</td>\n",
       "    </tr>\n",
       "    <tr>\n",
       "      <th>794332</th>\n",
       "      <td>23.0</td>\n",
       "      <td>3.0</td>\n",
       "      <td>0.0</td>\n",
       "      <td>0.0</td>\n",
       "      <td>3.0</td>\n",
       "      <td>2.0</td>\n",
       "    </tr>\n",
       "  </tbody>\n",
       "</table>\n",
       "</div>"
      ],
      "text/plain": [
       "        Clarin  La Nacion  Pagina 12  Todo Noticias  Infobae  El Destape\n",
       "usr_id                                                                  \n",
       "58613      0.0        2.0        0.0            0.0      1.0         0.0\n",
       "59173      1.0        1.0        1.0            0.0      0.0         0.0\n",
       "760916     0.0        1.0        0.0            0.0      1.0         0.0\n",
       "778189     3.0        2.0        0.0            0.0      0.0         0.0\n",
       "794332    23.0        3.0        0.0            0.0      3.0         2.0"
      ]
     },
     "execution_count": 9,
     "metadata": {},
     "output_type": "execute_result"
    }
   ],
   "source": [
    "user_media_df_filtrado.head(n = 5)"
   ]
  },
  {
   "cell_type": "code",
   "execution_count": 10,
   "id": "e7703e51",
   "metadata": {},
   "outputs": [
    {
     "data": {
      "text/plain": [
       "42062"
      ]
     },
     "execution_count": 10,
     "metadata": {},
     "output_type": "execute_result"
    }
   ],
   "source": [
    "# Amount of users involved in MSI \n",
    "user_media_df_filtrado.shape[0]"
   ]
  },
  {
   "cell_type": "markdown",
   "id": "aa68b885",
   "metadata": {},
   "source": [
    "#### Aplication of correspondence analysis over the matrix: "
   ]
  },
  {
   "cell_type": "code",
   "execution_count": 11,
   "id": "1ca4c215",
   "metadata": {},
   "outputs": [],
   "source": [
    "# Matrix of user - media shared\n",
    "A = user_media_df_filtrado.to_numpy()\n",
    "\n",
    "# Aplication of the algorithm\n",
    "score_users = calculate_scores(A)"
   ]
  },
  {
   "cell_type": "markdown",
   "id": "bd378242",
   "metadata": {},
   "source": [
    "### Result"
   ]
  },
  {
   "cell_type": "code",
   "execution_count": 12,
   "id": "0693df30",
   "metadata": {},
   "outputs": [
    {
     "data": {
      "image/png": "[encoded data removed]",
      "text/plain": [
       "<Figure size 1000x400 with 1 Axes>"
      ]
     },
     "metadata": {
      "needs_background": "light"
     },
     "output_type": "display_data"
    }
   ],
   "source": [
    "# Scores of the users\n",
    "plt.figure(dpi = 200, figsize=(5,2))\n",
    "plt.hist(score_users, bins = 15, range=(-1, 1), alpha = 0.50, color = 'g', density = True)\n",
    "plt.xticks(np.arange(-1, 1.05, 0.50), size = 12)\n",
    "plt.xlabel(r'MSI', size = 16)\n",
    "plt.grid(True, alpha = 0.15)\n",
    "plt.xlim([-1, 1])\n",
    "plt.show()"
   ]
  },
  {
   "cell_type": "code",
   "execution_count": 13,
   "id": "9dcd48d8",
   "metadata": {},
   "outputs": [],
   "source": [
    "user_media_df_filtrado['score'] = score_users"
   ]
  },
  {
   "cell_type": "code",
   "execution_count": 14,
   "id": "3aac6bb1",
   "metadata": {},
   "outputs": [],
   "source": [
    "# Scores of the media\n",
    "media_score = []\n",
    "for media in user_media_df_filtrado.columns[:user_media_df_filtrado.shape[1]-1]:\n",
    "    media_score.append([media, np.average(user_media_df_filtrado['score'], weights=user_media_df_filtrado[media])])"
   ]
  },
  {
   "cell_type": "code",
   "execution_count": 15,
   "id": "66ef0d95",
   "metadata": {},
   "outputs": [
    {
     "data": {
      "image/png": "[encoded data removed]",
      "text/plain": [
       "<Figure size 1000x400 with 2 Axes>"
      ]
     },
     "metadata": {
      "needs_background": "light"
     },
     "output_type": "display_data"
    }
   ],
   "source": [
    "# Scores of the users\n",
    "fig, ax = plt.subplots(dpi = 200, figsize=(5,2))\n",
    "ax.hist(score_users, bins = 20, range=(-1, 1), alpha = 0.50, color = 'g', density = True)\n",
    "ax.set_xlabel(r'MSI', size = 16)\n",
    "\n",
    "ax2 = ax.twinx()\n",
    "for ms in media_score:\n",
    "    ax2.axvline(ms[1], color = 'grey', alpha = 0.65)\n",
    "    if ms[0] != 'Clarin':\n",
    "        ax2.text(x = ms[1]-0.02, y = 0.5, s=ms[0], rotation = 90, size = 6)\n",
    "    else: \n",
    "        ax2.text(x = ms[1]-0.02, y = 0.25, s=ms[0], rotation = 90, size = 6)\n",
    "ax2.set_yticks([])\n",
    "ax.set_xticks(np.arange(-1, 1.05, 0.50), np.arange(-1, 1.05, 0.50), size = 12)\n",
    "ax.set_xlim([-1, 1])\n",
    "plt.show()"
   ]
  },
  {
   "cell_type": "markdown",
   "id": "6638cfbb",
   "metadata": {},
   "source": [
    "### Relation to opinion model \n",
    "\n",
    "The ideology of an user in the most frequent label assigned to it at the time of sharing a news."
   ]
  },
  {
   "cell_type": "code",
   "execution_count": 16,
   "id": "ec515d2e",
   "metadata": {},
   "outputs": [],
   "source": [
    "from scipy.stats import mode "
   ]
  },
  {
   "cell_type": "code",
   "execution_count": 17,
   "id": "497a9e07",
   "metadata": {},
   "outputs": [],
   "source": [
    "user_ideology = data.groupby('usr_id').apply(lambda x: mode(x['opinion_dinamic'])[0][0])"
   ]
  },
  {
   "cell_type": "code",
   "execution_count": 18,
   "id": "f81168a8",
   "metadata": {},
   "outputs": [],
   "source": [
    "ideology_of_msi_users = user_ideology[user_ideology.index.isin(user_media_df_filtrado.index)].to_list()"
   ]
  },
  {
   "cell_type": "code",
   "execution_count": 19,
   "id": "2811b22e",
   "metadata": {},
   "outputs": [],
   "source": [
    "user_media_df_filtrado['ideology'] = ideology_of_msi_users"
   ]
  },
  {
   "cell_type": "code",
   "execution_count": 20,
   "id": "dcf561a0",
   "metadata": {
    "scrolled": true
   },
   "outputs": [
    {
     "data": {
      "image/png": "[encoded data removed]",
      "text/plain": [
       "<Figure size 1000x400 with 2 Axes>"
      ]
     },
     "metadata": {
      "needs_background": "light"
     },
     "output_type": "display_data"
    }
   ],
   "source": [
    "# Scores of the users\n",
    "fig, ax = plt.subplots(dpi = 200, figsize=(5,2))\n",
    "\n",
    "ideocolor = {'FF': 'b', 'MP': 'r'}\n",
    "for ideology in ['FF', 'MP']:\n",
    "    ax.hist(user_media_df_filtrado[user_media_df_filtrado['ideology'] == ideology]['score'], bins = 20, range=(-1, 1), alpha = 0.50, color = ideocolor[ideology], density = True, label = ideology)\n",
    "ax.set_xlabel(r'MSI', size = 16)\n",
    "ax.legend(loc = 'upper center')\n",
    "\n",
    "ax2 = ax.twinx()\n",
    "for ms in media_score:\n",
    "    ax2.axvline(ms[1], color = 'grey', alpha = 0.65)\n",
    "    if ms[0] != 'Clarin':\n",
    "        ax2.text(x = ms[1]-0.02, y = 0.5, s=ms[0], rotation = 90, size = 6)\n",
    "    else: \n",
    "        ax2.text(x = ms[1]-0.02, y = 0.25, s=ms[0], rotation = 90, size = 6)\n",
    "ax2.set_yticks([])\n",
    "    \n",
    "    \n",
    "ax2.set_yticks([])\n",
    "ax.set_xticks(np.arange(-1, 1.05, 0.50), np.arange(-1, 1.05, 0.50), size = 12)\n",
    "ax.set_xlim([-1, 1])\n",
    "plt.show()"
   ]
  },
  {
   "cell_type": "markdown",
   "id": "214b1742",
   "metadata": {},
   "source": [
    "### Other way "
   ]
  },
  {
   "cell_type": "code",
   "execution_count": 21,
   "id": "16524cca",
   "metadata": {},
   "outputs": [],
   "source": [
    "score_users_new = np.random.normal(loc = 0, scale = 1.00, size = A.shape[0])\n",
    "score_users_new = (score_users_new - np.mean(score_users_new))/np.std(score_users_new)\n",
    "\n",
    "for iteration in range(25):\n",
    "    \n",
    "    score_media_new = np.array([np.average(score_users_new, weights=A[:,i]) for i in range(A.shape[1])])\n",
    "    score_users_new = np.array([np.average(score_media_new, weights=A[j,:]) for j in range(A.shape[0])])\n",
    "\n",
    "    score_users_new = (score_users_new - np.mean(score_users_new))/np.std(score_users_new)"
   ]
  },
  {
   "cell_type": "code",
   "execution_count": 22,
   "id": "b5d0d4b7",
   "metadata": {},
   "outputs": [],
   "source": [
    "score_users_new = (-1 + 2 * (score_users_new-np.min(score_users_new))/np.ptp(score_users_new)) #scaled"
   ]
  },
  {
   "cell_type": "code",
   "execution_count": 32,
   "id": "fa0800cf",
   "metadata": {},
   "outputs": [
    {
     "data": {
      "image/png": "[encoded data removed]",
      "text/plain": [
       "<Figure size 400x400 with 1 Axes>"
      ]
     },
     "metadata": {
      "needs_background": "light"
     },
     "output_type": "display_data"
    }
   ],
   "source": [
    "plt.figure(dpi = 200, figsize=(2,2))\n",
    "plt.plot(score_users, score_users_new, marker = '.', alpha = 0.05, markersize = 5, color = 'b')\n",
    "plt.plot([-1, 1], [-1, 1], label = r'$y = x$', color = 'r')\n",
    "plt.legend(loc = 'best')\n",
    "plt.xlabel('MSI by SVD', size = 8)\n",
    "plt.ylabel('MSI by weighted average', size = 8)\n",
    "plt.show()"
   ]
  },
  {
   "cell_type": "code",
   "execution_count": 34,
   "id": "d3b0782d",
   "metadata": {},
   "outputs": [],
   "source": [
    "score_media_new = np.array([np.average(score_users_new, weights=A[:,i]) for i in range(A.shape[1])])"
   ]
  },
  {
   "cell_type": "code",
   "execution_count": 40,
   "id": "c96a26f5",
   "metadata": {
    "scrolled": true
   },
   "outputs": [
    {
     "data": {
      "text/plain": [
       "Text(0.5, 1.0, \"Media outlets' index\")"
      ]
     },
     "execution_count": 40,
     "metadata": {},
     "output_type": "execute_result"
    },
    {
     "data": {
      "image/png": "[encoded data removed]",
      "text/plain": [
       "<Figure size 400x400 with 1 Axes>"
      ]
     },
     "metadata": {
      "needs_background": "light"
     },
     "output_type": "display_data"
    }
   ],
   "source": [
    "plt.figure(dpi = 200, figsize=(2,2))\n",
    "plt.plot([m[1] for m in media_score], score_media_new, marker = '.', color = 'b', linewidth = 0, markersize = 15, alpha = 0.75)\n",
    "plt.plot([-1, 1], [-1, 1], label = r'$y = x$', color = 'r')\n",
    "plt.legend(loc = 'best')\n",
    "plt.xlabel('MSI by SVD', size = 8)\n",
    "plt.ylabel('MSI by weighted average', size = 8)\n",
    "plt.title(\"Media outlets\\' index\", size = 8)"
   ]
  },
  {
   "cell_type": "markdown",
   "id": "6858a921",
   "metadata": {},
   "source": [
    "### Complete calculation "
   ]
  },
  {
   "cell_type": "code",
   "execution_count": 41,
   "id": "58d04293",
   "metadata": {},
   "outputs": [],
   "source": [
    "#### Aplication over data\n",
    "user_media_df_filtrado = user_media_df[['Clarin', 'La Nacion', 'Pagina 12', 'Todo Noticias', 'Infobae', 'El Destape']].copy()\n",
    "user_media_df_filtrado = user_media_df_filtrado[user_media_df_filtrado.apply(np.count_nonzero, axis = 1) > 0].copy()"
   ]
  },
  {
   "cell_type": "code",
   "execution_count": 42,
   "id": "45a75c6b",
   "metadata": {},
   "outputs": [],
   "source": [
    "# Matrix of user - media shared\n",
    "A = user_media_df_filtrado.to_numpy()"
   ]
  },
  {
   "cell_type": "code",
   "execution_count": 44,
   "id": "77262fb5",
   "metadata": {},
   "outputs": [],
   "source": [
    "score_users_new = np.random.normal(loc = 0, scale = 1.00, size = A.shape[0])\n",
    "score_users_new = (score_users_new - np.mean(score_users_new))/np.std(score_users_new)\n",
    "\n",
    "for iteration in range(50):\n",
    "    \n",
    "    score_media_new = np.array([np.average(score_users_new, weights=A[:,i]) for i in range(A.shape[1])])\n",
    "    score_users_new = np.array([np.average(score_media_new, weights=A[j,:]) for j in range(A.shape[0])])\n",
    "\n",
    "    score_users_new = (score_users_new - np.mean(score_users_new))/np.std(score_users_new)\n",
    "    \n",
    "score_users = (-1 + 2 * (score_users_new-np.min(score_users_new))/np.ptp(score_users_new)) #scaled"
   ]
  },
  {
   "cell_type": "code",
   "execution_count": 46,
   "id": "adbdec94",
   "metadata": {},
   "outputs": [
    {
     "name": "stdout",
     "output_type": "stream",
     "text": [
      "[['Clarin', 0.8545083717377115], ['La Nacion', 0.8002235092774701], ['Pagina 12', -0.7447522505089922], ['Todo Noticias', 0.8712475816988725], ['Infobae', 0.6984512040494137], ['El Destape', -0.844023591837906]]\n"
     ]
    }
   ],
   "source": [
    "score_media = np.array([np.average(score_users, weights=A[:,i]) for i in range(A.shape[1])])\n",
    "media_score = [[user_media_df_filtrado.columns[i], score_media[i]] for i in range(len(score_media))]\n",
    "print(media_score)"
   ]
  },
  {
   "cell_type": "code",
   "execution_count": 47,
   "id": "92032f19",
   "metadata": {},
   "outputs": [
    {
     "data": {
      "image/png": "[encoded data removed]",
      "text/plain": [
       "<Figure size 1000x400 with 2 Axes>"
      ]
     },
     "metadata": {
      "needs_background": "light"
     },
     "output_type": "display_data"
    }
   ],
   "source": [
    "# Scores of the users\n",
    "fig, ax = plt.subplots(dpi = 200, figsize=(5,2))\n",
    "ax.hist(score_users, bins = 20, range=(-1, 1), alpha = 0.50, color = 'g', density = True)\n",
    "ax.set_xlabel(r'MSI', size = 16)\n",
    "\n",
    "ax2 = ax.twinx()\n",
    "for ms in media_score:\n",
    "    ax2.axvline(ms[1], color = 'grey', alpha = 0.65)\n",
    "    if ms[0] != 'Clarin':\n",
    "        ax2.text(x = ms[1]-0.02, y = 0.5, s=ms[0], rotation = 90, size = 6)\n",
    "    else: \n",
    "        ax2.text(x = ms[1]-0.02, y = 0.25, s=ms[0], rotation = 90, size = 6)\n",
    "ax2.set_yticks([])\n",
    "ax.set_xticks(np.arange(-1, 1.05, 0.50), np.arange(-1, 1.05, 0.50), size = 12)\n",
    "ax.set_xlim([-1, 1])\n",
    "plt.show()"
   ]
  },
  {
   "cell_type": "code",
   "execution_count": 48,
   "id": "fb18e75a",
   "metadata": {},
   "outputs": [],
   "source": [
    "user_media_df_filtrado['score'] = score_users"
   ]
  },
  {
   "cell_type": "code",
   "execution_count": 50,
   "id": "4059330e",
   "metadata": {},
   "outputs": [],
   "source": [
    "user_ideology = data.groupby('usr_id').apply(lambda x: mode(x['opinion_dinamic'])[0][0])\n",
    "\n",
    "ideology_of_msi_users = user_ideology[user_ideology.index.isin(user_media_df_filtrado.index)].to_list()\n",
    "\n",
    "user_media_df_filtrado['ideology'] = ideology_of_msi_users"
   ]
  },
  {
   "cell_type": "code",
   "execution_count": 51,
   "id": "193ed703",
   "metadata": {},
   "outputs": [
    {
     "data": {
      "image/png": "[encoded data removed]",
      "text/plain": [
       "<Figure size 1000x400 with 2 Axes>"
      ]
     },
     "metadata": {
      "needs_background": "light"
     },
     "output_type": "display_data"
    }
   ],
   "source": [
    "# Scores of the users\n",
    "fig, ax = plt.subplots(dpi = 200, figsize=(5,2))\n",
    "\n",
    "ideocolor = {'FF': 'b', 'MP': 'r'}\n",
    "for ideology in ['FF', 'MP']:\n",
    "    ax.hist(user_media_df_filtrado[user_media_df_filtrado['ideology'] == ideology]['score'], bins = 25, range=(-1, 1), alpha = 0.50, color = ideocolor[ideology], density = True, label = ideology)\n",
    "ax.set_xlabel(r'MSI', size = 16)\n",
    "ax.legend(loc = 'upper center')\n",
    "\n",
    "ax2 = ax.twinx()\n",
    "for ms in media_score:\n",
    "    ax2.axvline(ms[1], color = 'grey', alpha = 0.65)\n",
    "    if ms[0] != 'Clarin':\n",
    "        ax2.text(x = ms[1]-0.02, y = 0.5, s=ms[0], rotation = 90, size = 6)\n",
    "    else: \n",
    "        ax2.text(x = ms[1]-0.02, y = 0.25, s=ms[0], rotation = 90, size = 6)\n",
    "ax2.set_yticks([])\n",
    "    \n",
    "    \n",
    "ax2.set_yticks([])\n",
    "ax.set_xticks(np.arange(-1, 1.05, 0.50), np.arange(-1, 1.05, 0.50), size = 12)\n",
    "ax.set_xlim([-1, 1])\n",
    "plt.show()"
   ]
  },
  {
   "cell_type": "markdown",
   "id": "9cf4c0cb",
   "metadata": {},
   "source": [
    "### Output"
   ]
  },
  {
   "cell_type": "code",
   "execution_count": 54,
   "id": "611d1ef4",
   "metadata": {},
   "outputs": [],
   "source": [
    "user_media_df_filtrado['score'].to_csv('MSI_users_score_with_1outletshared.csv')"
   ]
  }
 ],
 "metadata": {
  "kernelspec": {
   "display_name": "Python 3 (ipykernel)",
   "language": "python",
   "name": "python3"
  },
  "language_info": {
   "codemirror_mode": {
    "name": "ipython",
    "version": 3
   },
   "file_extension": ".py",
   "mimetype": "text/x-python",
   "name": "python",
   "nbconvert_exporter": "python",
   "pygments_lexer": "ipython3",
   "version": "3.8.10"
  }
 },
 "nbformat": 4,
 "nbformat_minor": 5
}
