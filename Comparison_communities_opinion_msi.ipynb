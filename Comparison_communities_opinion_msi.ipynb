{
 "cells": [
  {
   "cell_type": "code",
   "execution_count": 1,
   "id": "c7736748",
   "metadata": {},
   "outputs": [],
   "source": [
    "import pandas as pd \n",
    "import matplotlib.pyplot as plt \n",
    "import numpy as np"
   ]
  },
  {
   "cell_type": "code",
   "execution_count": 2,
   "id": "444795f3",
   "metadata": {},
   "outputs": [],
   "source": [
    "# Load data processed\n",
    "communities = pd.read_csv('Results/Node_community.csv')\n",
    "opinion = pd.read_csv('Results/Users_ideological_valence.csv')\n",
    "msi = pd.read_csv('Results/MSI_users_score_with_1outletshared.csv')"
   ]
  },
  {
   "cell_type": "code",
   "execution_count": 3,
   "id": "9bfd46d4",
   "metadata": {},
   "outputs": [],
   "source": [
    "# Concat all data\n",
    "all_data = msi.merge(communities, left_on='usr_id', right_on='node', how='outer').merge(opinion, left_on='usr_id', right_on='usr_id', how = 'outer')\n",
    "all_data = all_data[['usr_id', 'score_x', 'community', 'opinion_valence']].copy()\n",
    "all_data.rename(columns={'score_x': 'msi'}, inplace=True)"
   ]
  },
  {
   "cell_type": "code",
   "execution_count": 4,
   "id": "d5d0ca93",
   "metadata": {},
   "outputs": [
    {
     "name": "stdout",
     "output_type": "stream",
     "text": [
      "-5.654842457925291e-18\n",
      "0.5637492751533378\n"
     ]
    }
   ],
   "source": [
    "# auxiliar lists\n",
    "score_users = all_data['msi'].to_list()\n",
    "print(np.mean(score_users))\n",
    "print(np.median(score_users))"
   ]
  },
  {
   "cell_type": "markdown",
   "id": "5c043b1e",
   "metadata": {},
   "source": [
    "### Communities sorted by size"
   ]
  },
  {
   "cell_type": "code",
   "execution_count": 5,
   "id": "3121ecbd",
   "metadata": {},
   "outputs": [
    {
     "data": {
      "text/html": [
       "<div>\n",
       "<style scoped>\n",
       "    .dataframe tbody tr th:only-of-type {\n",
       "        vertical-align: middle;\n",
       "    }\n",
       "\n",
       "    .dataframe tbody tr th {\n",
       "        vertical-align: top;\n",
       "    }\n",
       "\n",
       "    .dataframe thead th {\n",
       "        text-align: right;\n",
       "    }\n",
       "</style>\n",
       "<table border=\"1\" class=\"dataframe\">\n",
       "  <thead>\n",
       "    <tr style=\"text-align: right;\">\n",
       "      <th></th>\n",
       "      <th>usr_id</th>\n",
       "      <th>msi</th>\n",
       "      <th>opinion_valence</th>\n",
       "    </tr>\n",
       "    <tr>\n",
       "      <th>community</th>\n",
       "      <th></th>\n",
       "      <th></th>\n",
       "      <th></th>\n",
       "    </tr>\n",
       "  </thead>\n",
       "  <tbody>\n",
       "    <tr>\n",
       "      <th>5.0</th>\n",
       "      <td>43031</td>\n",
       "      <td>43031</td>\n",
       "      <td>11436</td>\n",
       "    </tr>\n",
       "    <tr>\n",
       "      <th>2.0</th>\n",
       "      <td>41605</td>\n",
       "      <td>41605</td>\n",
       "      <td>12460</td>\n",
       "    </tr>\n",
       "    <tr>\n",
       "      <th>46.0</th>\n",
       "      <td>9482</td>\n",
       "      <td>9482</td>\n",
       "      <td>3019</td>\n",
       "    </tr>\n",
       "    <tr>\n",
       "      <th>61.0</th>\n",
       "      <td>3033</td>\n",
       "      <td>3033</td>\n",
       "      <td>266</td>\n",
       "    </tr>\n",
       "    <tr>\n",
       "      <th>24.0</th>\n",
       "      <td>1887</td>\n",
       "      <td>1887</td>\n",
       "      <td>155</td>\n",
       "    </tr>\n",
       "    <tr>\n",
       "      <th>0.0</th>\n",
       "      <td>1847</td>\n",
       "      <td>1847</td>\n",
       "      <td>489</td>\n",
       "    </tr>\n",
       "    <tr>\n",
       "      <th>60.0</th>\n",
       "      <td>1540</td>\n",
       "      <td>1540</td>\n",
       "      <td>127</td>\n",
       "    </tr>\n",
       "    <tr>\n",
       "      <th>55.0</th>\n",
       "      <td>1205</td>\n",
       "      <td>1205</td>\n",
       "      <td>292</td>\n",
       "    </tr>\n",
       "    <tr>\n",
       "      <th>7.0</th>\n",
       "      <td>925</td>\n",
       "      <td>925</td>\n",
       "      <td>226</td>\n",
       "    </tr>\n",
       "    <tr>\n",
       "      <th>15.0</th>\n",
       "      <td>746</td>\n",
       "      <td>746</td>\n",
       "      <td>71</td>\n",
       "    </tr>\n",
       "  </tbody>\n",
       "</table>\n",
       "</div>"
      ],
      "text/plain": [
       "           usr_id    msi  opinion_valence\n",
       "community                                \n",
       "5.0         43031  43031            11436\n",
       "2.0         41605  41605            12460\n",
       "46.0         9482   9482             3019\n",
       "61.0         3033   3033              266\n",
       "24.0         1887   1887              155\n",
       "0.0          1847   1847              489\n",
       "60.0         1540   1540              127\n",
       "55.0         1205   1205              292\n",
       "7.0           925    925              226\n",
       "15.0          746    746               71"
      ]
     },
     "execution_count": 5,
     "metadata": {},
     "output_type": "execute_result"
    }
   ],
   "source": [
    "index_sorted = all_data.groupby('community').count().sort_values('usr_id', ascending=False).index\n",
    "all_data.groupby('community').count().sort_values('usr_id', ascending=False).head(n = 10)"
   ]
  },
  {
   "cell_type": "code",
   "execution_count": 6,
   "id": "d99f4df8",
   "metadata": {},
   "outputs": [
    {
     "data": {
      "text/html": [
       "<div>\n",
       "<style scoped>\n",
       "    .dataframe tbody tr th:only-of-type {\n",
       "        vertical-align: middle;\n",
       "    }\n",
       "\n",
       "    .dataframe tbody tr th {\n",
       "        vertical-align: top;\n",
       "    }\n",
       "\n",
       "    .dataframe thead th {\n",
       "        text-align: right;\n",
       "    }\n",
       "</style>\n",
       "<table border=\"1\" class=\"dataframe\">\n",
       "  <thead>\n",
       "    <tr style=\"text-align: right;\">\n",
       "      <th></th>\n",
       "      <th>msi</th>\n",
       "      <th>opinion_valence</th>\n",
       "    </tr>\n",
       "    <tr>\n",
       "      <th>community</th>\n",
       "      <th></th>\n",
       "      <th></th>\n",
       "    </tr>\n",
       "  </thead>\n",
       "  <tbody>\n",
       "    <tr>\n",
       "      <th>5.0</th>\n",
       "      <td>0.680421</td>\n",
       "      <td>0.710131</td>\n",
       "    </tr>\n",
       "    <tr>\n",
       "      <th>2.0</th>\n",
       "      <td>-0.870590</td>\n",
       "      <td>-0.845091</td>\n",
       "    </tr>\n",
       "    <tr>\n",
       "      <th>46.0</th>\n",
       "      <td>0.454212</td>\n",
       "      <td>0.230499</td>\n",
       "    </tr>\n",
       "    <tr>\n",
       "      <th>61.0</th>\n",
       "      <td>0.607625</td>\n",
       "      <td>0.337822</td>\n",
       "    </tr>\n",
       "    <tr>\n",
       "      <th>24.0</th>\n",
       "      <td>-1.076243</td>\n",
       "      <td>-0.749779</td>\n",
       "    </tr>\n",
       "    <tr>\n",
       "      <th>0.0</th>\n",
       "      <td>0.417646</td>\n",
       "      <td>-0.021142</td>\n",
       "    </tr>\n",
       "    <tr>\n",
       "      <th>60.0</th>\n",
       "      <td>-1.136546</td>\n",
       "      <td>-0.633469</td>\n",
       "    </tr>\n",
       "    <tr>\n",
       "      <th>55.0</th>\n",
       "      <td>0.421537</td>\n",
       "      <td>0.340766</td>\n",
       "    </tr>\n",
       "    <tr>\n",
       "      <th>7.0</th>\n",
       "      <td>0.045231</td>\n",
       "      <td>-0.667299</td>\n",
       "    </tr>\n",
       "    <tr>\n",
       "      <th>15.0</th>\n",
       "      <td>0.585617</td>\n",
       "      <td>0.239437</td>\n",
       "    </tr>\n",
       "  </tbody>\n",
       "</table>\n",
       "</div>"
      ],
      "text/plain": [
       "                msi  opinion_valence\n",
       "community                           \n",
       "5.0        0.680421         0.710131\n",
       "2.0       -0.870590        -0.845091\n",
       "46.0       0.454212         0.230499\n",
       "61.0       0.607625         0.337822\n",
       "24.0      -1.076243        -0.749779\n",
       "0.0        0.417646        -0.021142\n",
       "60.0      -1.136546        -0.633469\n",
       "55.0       0.421537         0.340766\n",
       "7.0        0.045231        -0.667299\n",
       "15.0       0.585617         0.239437"
      ]
     },
     "execution_count": 6,
     "metadata": {},
     "output_type": "execute_result"
    }
   ],
   "source": [
    "# Summary\n",
    "all_data.groupby('community').mean()[['msi', 'opinion_valence']].loc[index_sorted].head(n = 10)"
   ]
  },
  {
   "cell_type": "code",
   "execution_count": 7,
   "id": "8f2d3a61",
   "metadata": {},
   "outputs": [],
   "source": [
    "ncommunity = 2\n",
    "score_users_com = all_data[all_data.community == ncommunity]['msi'].to_list()\n",
    "iv_users_com = all_data[all_data.community == ncommunity].dropna(subset=['opinion_valence'])['opinion_valence'].to_list()"
   ]
  },
  {
   "cell_type": "code",
   "execution_count": 8,
   "id": "fedb2962",
   "metadata": {},
   "outputs": [
    {
     "data": {
      "image/png": "[encoded data removed]",
      "text/plain": [
       "<Figure size 600x400 with 1 Axes>"
      ]
     },
     "metadata": {},
     "output_type": "display_data"
    }
   ],
   "source": [
    "# Scores of the users\n",
    "fig, ax = plt.subplots(dpi = 200, figsize=(3,2))\n",
    "ax.hist(score_users_com, bins = np.arange(-2, 2, 0.25), alpha = 0.50, color = 'g', density = True)\n",
    "ax.set_xlabel(r'MSI', size = 14)\n",
    "ax.set_xlim(np.quantile(score_users, q = [0.005, 0.995]) + np.array([-0.65, 0.65]))\n",
    "fig.tight_layout()\n",
    "plt.show()"
   ]
  },
  {
   "cell_type": "code",
   "execution_count": 9,
   "id": "1095f599",
   "metadata": {},
   "outputs": [
    {
     "data": {
      "image/png": "[encoded data removed]",
      "text/plain": [
       "<Figure size 600x400 with 1 Axes>"
      ]
     },
     "metadata": {},
     "output_type": "display_data"
    }
   ],
   "source": [
    "# IV of the users\n",
    "fig, ax = plt.subplots(dpi = 200, figsize=(3,2))\n",
    "ax.hist(iv_users_com, bins = np.arange(-1, 1.01, 0.25), alpha = 0.50, color = 'g', density = True)\n",
    "ax.set_xlabel(r'Ideological valence', size = 14)\n",
    "fig.tight_layout()\n",
    "plt.show()"
   ]
  },
  {
   "cell_type": "markdown",
   "id": "b45e4370",
   "metadata": {},
   "source": [
    "### Users with well defined ideology"
   ]
  },
  {
   "cell_type": "code",
   "execution_count": 22,
   "id": "523c4d70",
   "metadata": {},
   "outputs": [],
   "source": [
    "# Work with users with well-defined community, opinion, media consumption\n",
    "user_opinion_defined = all_data.dropna()\n",
    "user_opinion_defined = user_opinion_defined[user_opinion_defined.opinion_valence != 0]"
   ]
  },
  {
   "cell_type": "code",
   "execution_count": 23,
   "id": "167e701a",
   "metadata": {},
   "outputs": [
    {
     "data": {
      "text/html": [
       "<div>\n",
       "<style scoped>\n",
       "    .dataframe tbody tr th:only-of-type {\n",
       "        vertical-align: middle;\n",
       "    }\n",
       "\n",
       "    .dataframe tbody tr th {\n",
       "        vertical-align: top;\n",
       "    }\n",
       "\n",
       "    .dataframe thead th {\n",
       "        text-align: right;\n",
       "    }\n",
       "</style>\n",
       "<table border=\"1\" class=\"dataframe\">\n",
       "  <thead>\n",
       "    <tr style=\"text-align: right;\">\n",
       "      <th></th>\n",
       "      <th>usr_id</th>\n",
       "      <th>msi</th>\n",
       "      <th>opinion_valence</th>\n",
       "    </tr>\n",
       "    <tr>\n",
       "      <th>community</th>\n",
       "      <th></th>\n",
       "      <th></th>\n",
       "      <th></th>\n",
       "    </tr>\n",
       "  </thead>\n",
       "  <tbody>\n",
       "    <tr>\n",
       "      <th>2.0</th>\n",
       "      <td>12331</td>\n",
       "      <td>12331</td>\n",
       "      <td>12331</td>\n",
       "    </tr>\n",
       "    <tr>\n",
       "      <th>5.0</th>\n",
       "      <td>11221</td>\n",
       "      <td>11221</td>\n",
       "      <td>11221</td>\n",
       "    </tr>\n",
       "    <tr>\n",
       "      <th>46.0</th>\n",
       "      <td>2908</td>\n",
       "      <td>2908</td>\n",
       "      <td>2908</td>\n",
       "    </tr>\n",
       "    <tr>\n",
       "      <th>0.0</th>\n",
       "      <td>475</td>\n",
       "      <td>475</td>\n",
       "      <td>475</td>\n",
       "    </tr>\n",
       "    <tr>\n",
       "      <th>55.0</th>\n",
       "      <td>279</td>\n",
       "      <td>279</td>\n",
       "      <td>279</td>\n",
       "    </tr>\n",
       "    <tr>\n",
       "      <th>...</th>\n",
       "      <td>...</td>\n",
       "      <td>...</td>\n",
       "      <td>...</td>\n",
       "    </tr>\n",
       "    <tr>\n",
       "      <th>177.0</th>\n",
       "      <td>1</td>\n",
       "      <td>1</td>\n",
       "      <td>1</td>\n",
       "    </tr>\n",
       "    <tr>\n",
       "      <th>176.0</th>\n",
       "      <td>1</td>\n",
       "      <td>1</td>\n",
       "      <td>1</td>\n",
       "    </tr>\n",
       "    <tr>\n",
       "      <th>174.0</th>\n",
       "      <td>1</td>\n",
       "      <td>1</td>\n",
       "      <td>1</td>\n",
       "    </tr>\n",
       "    <tr>\n",
       "      <th>170.0</th>\n",
       "      <td>1</td>\n",
       "      <td>1</td>\n",
       "      <td>1</td>\n",
       "    </tr>\n",
       "    <tr>\n",
       "      <th>440.0</th>\n",
       "      <td>1</td>\n",
       "      <td>1</td>\n",
       "      <td>1</td>\n",
       "    </tr>\n",
       "  </tbody>\n",
       "</table>\n",
       "<p>251 rows × 3 columns</p>\n",
       "</div>"
      ],
      "text/plain": [
       "           usr_id    msi  opinion_valence\n",
       "community                                \n",
       "2.0         12331  12331            12331\n",
       "5.0         11221  11221            11221\n",
       "46.0         2908   2908             2908\n",
       "0.0           475    475              475\n",
       "55.0          279    279              279\n",
       "...           ...    ...              ...\n",
       "177.0           1      1                1\n",
       "176.0           1      1                1\n",
       "174.0           1      1                1\n",
       "170.0           1      1                1\n",
       "440.0           1      1                1\n",
       "\n",
       "[251 rows x 3 columns]"
      ]
     },
     "execution_count": 23,
     "metadata": {},
     "output_type": "execute_result"
    }
   ],
   "source": [
    "index_sorted = user_opinion_defined.groupby('community').count().sort_values('usr_id', ascending=False).index\n",
    "user_opinion_defined.groupby('community').count().sort_values('usr_id', ascending=False)"
   ]
  },
  {
   "cell_type": "code",
   "execution_count": 24,
   "id": "3f659e92",
   "metadata": {},
   "outputs": [
    {
     "data": {
      "text/html": [
       "<div>\n",
       "<style scoped>\n",
       "    .dataframe tbody tr th:only-of-type {\n",
       "        vertical-align: middle;\n",
       "    }\n",
       "\n",
       "    .dataframe tbody tr th {\n",
       "        vertical-align: top;\n",
       "    }\n",
       "\n",
       "    .dataframe thead th {\n",
       "        text-align: right;\n",
       "    }\n",
       "</style>\n",
       "<table border=\"1\" class=\"dataframe\">\n",
       "  <thead>\n",
       "    <tr style=\"text-align: right;\">\n",
       "      <th></th>\n",
       "      <th>msi</th>\n",
       "      <th>opinion_valence</th>\n",
       "    </tr>\n",
       "    <tr>\n",
       "      <th>community</th>\n",
       "      <th></th>\n",
       "      <th></th>\n",
       "    </tr>\n",
       "  </thead>\n",
       "  <tbody>\n",
       "    <tr>\n",
       "      <th>2.0</th>\n",
       "      <td>-0.883930</td>\n",
       "      <td>-0.853932</td>\n",
       "    </tr>\n",
       "    <tr>\n",
       "      <th>5.0</th>\n",
       "      <td>0.674774</td>\n",
       "      <td>0.723737</td>\n",
       "    </tr>\n",
       "    <tr>\n",
       "      <th>46.0</th>\n",
       "      <td>0.468552</td>\n",
       "      <td>0.239297</td>\n",
       "    </tr>\n",
       "    <tr>\n",
       "      <th>0.0</th>\n",
       "      <td>0.446406</td>\n",
       "      <td>-0.021765</td>\n",
       "    </tr>\n",
       "    <tr>\n",
       "      <th>55.0</th>\n",
       "      <td>0.396272</td>\n",
       "      <td>0.356644</td>\n",
       "    </tr>\n",
       "    <tr>\n",
       "      <th>...</th>\n",
       "      <td>...</td>\n",
       "      <td>...</td>\n",
       "    </tr>\n",
       "    <tr>\n",
       "      <th>177.0</th>\n",
       "      <td>0.563749</td>\n",
       "      <td>-1.000000</td>\n",
       "    </tr>\n",
       "    <tr>\n",
       "      <th>176.0</th>\n",
       "      <td>0.509369</td>\n",
       "      <td>-1.000000</td>\n",
       "    </tr>\n",
       "    <tr>\n",
       "      <th>174.0</th>\n",
       "      <td>0.822315</td>\n",
       "      <td>-1.000000</td>\n",
       "    </tr>\n",
       "    <tr>\n",
       "      <th>170.0</th>\n",
       "      <td>-1.153787</td>\n",
       "      <td>-1.000000</td>\n",
       "    </tr>\n",
       "    <tr>\n",
       "      <th>440.0</th>\n",
       "      <td>0.861894</td>\n",
       "      <td>-1.000000</td>\n",
       "    </tr>\n",
       "  </tbody>\n",
       "</table>\n",
       "<p>251 rows × 2 columns</p>\n",
       "</div>"
      ],
      "text/plain": [
       "                msi  opinion_valence\n",
       "community                           \n",
       "2.0       -0.883930        -0.853932\n",
       "5.0        0.674774         0.723737\n",
       "46.0       0.468552         0.239297\n",
       "0.0        0.446406        -0.021765\n",
       "55.0       0.396272         0.356644\n",
       "...             ...              ...\n",
       "177.0      0.563749        -1.000000\n",
       "176.0      0.509369        -1.000000\n",
       "174.0      0.822315        -1.000000\n",
       "170.0     -1.153787        -1.000000\n",
       "440.0      0.861894        -1.000000\n",
       "\n",
       "[251 rows x 2 columns]"
      ]
     },
     "execution_count": 24,
     "metadata": {},
     "output_type": "execute_result"
    }
   ],
   "source": [
    "user_opinion_defined.groupby('community').mean(numeric_only=True).loc[index_sorted][['msi', 'opinion_valence']]"
   ]
  },
  {
   "cell_type": "code",
   "execution_count": 25,
   "id": "ebceab88",
   "metadata": {},
   "outputs": [],
   "source": [
    "user_opinion_defined['ideology'] = user_opinion_defined['opinion_valence'].apply(lambda x: 'CR' if x > 0 else 'CL')\n",
    "user_opinion_defined['media_ideology'] = user_opinion_defined['msi'].apply(lambda x: 'CR' if x > 0.00 else 'CL')"
   ]
  },
  {
   "cell_type": "code",
   "execution_count": 26,
   "id": "84ef280d",
   "metadata": {},
   "outputs": [],
   "source": [
    "from sklearn.metrics import confusion_matrix\n",
    "from sklearn.metrics import adjusted_rand_score\n",
    "\n",
    "ncommunity = 5\n",
    "\n",
    "X = user_opinion_defined[user_opinion_defined.community == ncommunity][['ideology', 'media_ideology']].to_numpy()"
   ]
  },
  {
   "cell_type": "code",
   "execution_count": 27,
   "id": "83d53ff9",
   "metadata": {},
   "outputs": [
    {
     "name": "stdout",
     "output_type": "stream",
     "text": [
      "[[0.00507976 0.12913288]\n",
      " [0.01586311 0.84992425]]\n"
     ]
    },
    {
     "data": {
      "image/png": "[encoded data removed]",
      "text/plain": [
       "<Figure size 600x600 with 2 Axes>"
      ]
     },
     "metadata": {},
     "output_type": "display_data"
    }
   ],
   "source": [
    "plt.figure(dpi = 200, figsize = (3,3))\n",
    "\n",
    "cm = confusion_matrix(X[:,0], X[:,1])\n",
    "cm_norm = cm / cm.sum()\n",
    "print(cm_norm)\n",
    "\n",
    "plt.imshow(cm_norm, cmap = 'Reds', vmin = 0.00, vmax = 1.00)\n",
    "\n",
    "plt.ylabel('Ideology')\n",
    "plt.xlabel('Media consumption')\n",
    "plt.xticks([0, 1], ['CL', 'CR'])\n",
    "plt.yticks([0, 1], ['CL', 'CR'])\n",
    "plt.colorbar()\n",
    "plt.tight_layout()\n",
    "plt.show()"
   ]
  },
  {
   "cell_type": "markdown",
   "id": "420b8129-b56a-4f6e-9b1a-e5a21e643c20",
   "metadata": {},
   "source": [
    "### Adjusted rand index \n",
    "\n",
    "What is more correlated with community label, the ideology or the media consumption?"
   ]
  },
  {
   "cell_type": "code",
   "execution_count": 47,
   "id": "a5f2bd61-37ff-4812-9898-475381aaa6b4",
   "metadata": {},
   "outputs": [
    {
     "data": {
      "text/plain": [
       "0.4049248756110366"
      ]
     },
     "execution_count": 47,
     "metadata": {},
     "output_type": "execute_result"
    }
   ],
   "source": [
    "from sklearn.metrics import adjusted_rand_score\n",
    "adjusted_rand_score(aux.community, aux.ideology)"
   ]
  },
  {
   "cell_type": "code",
   "execution_count": 48,
   "id": "da7feb95-ae9b-4161-ac1a-bc8c52fcdbe0",
   "metadata": {},
   "outputs": [
    {
     "data": {
      "text/plain": [
       "0.3069277630077964"
      ]
     },
     "execution_count": 48,
     "metadata": {},
     "output_type": "execute_result"
    }
   ],
   "source": [
    "adjusted_rand_score(aux.community, aux.media_ideology)"
   ]
  },
  {
   "cell_type": "code",
   "execution_count": null,
   "id": "63e325d0-5909-49da-b265-6919056b8dfc",
   "metadata": {},
   "outputs": [],
   "source": []
  }
 ],
 "metadata": {
  "kernelspec": {
   "display_name": "Python 3 (ipykernel)",
   "language": "python",
   "name": "python3"
  },
  "language_info": {
   "codemirror_mode": {
    "name": "ipython",
    "version": 3
   },
   "file_extension": ".py",
   "mimetype": "text/x-python",
   "name": "python",
   "nbconvert_exporter": "python",
   "pygments_lexer": "ipython3",
   "version": "3.8.10"
  }
 },
 "nbformat": 4,
 "nbformat_minor": 5
}
