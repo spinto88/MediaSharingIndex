{
 "cells": [
  {
   "cell_type": "markdown",
   "id": "35c2ff33",
   "metadata": {},
   "source": [
    "### MSI related to ideological valence"
   ]
  },
  {
   "cell_type": "code",
   "execution_count": 3,
   "id": "6cf18a9f",
   "metadata": {},
   "outputs": [],
   "source": [
    "import numpy as np\n",
    "import pandas as pd\n",
    "import matplotlib.pyplot as plt\n",
    "from sklearn.preprocessing import OneHotEncoder\n",
    "import seaborn as sns "
   ]
  },
  {
   "cell_type": "code",
   "execution_count": 4,
   "id": "b817e8f2",
   "metadata": {},
   "outputs": [
    {
     "data": {
      "text/html": [
       "<div>\n",
       "<style scoped>\n",
       "    .dataframe tbody tr th:only-of-type {\n",
       "        vertical-align: middle;\n",
       "    }\n",
       "\n",
       "    .dataframe tbody tr th {\n",
       "        vertical-align: top;\n",
       "    }\n",
       "\n",
       "    .dataframe thead th {\n",
       "        text-align: right;\n",
       "    }\n",
       "</style>\n",
       "<table border=\"1\" class=\"dataframe\">\n",
       "  <thead>\n",
       "    <tr style=\"text-align: right;\">\n",
       "      <th></th>\n",
       "      <th>fecha</th>\n",
       "      <th>url_expanded</th>\n",
       "      <th>medio</th>\n",
       "      <th>opinion_dinamic</th>\n",
       "      <th>tw_id</th>\n",
       "      <th>usr_id</th>\n",
       "    </tr>\n",
       "  </thead>\n",
       "  <tbody>\n",
       "    <tr>\n",
       "      <th>0</th>\n",
       "      <td>2019-03-01</td>\n",
       "      <td>https://www.clarin.com/politica/cristina-hijos...</td>\n",
       "      <td>Clarin</td>\n",
       "      <td>NaN</td>\n",
       "      <td>1101346910135377920</td>\n",
       "      <td>716295311342321665</td>\n",
       "    </tr>\n",
       "    <tr>\n",
       "      <th>1</th>\n",
       "      <td>2019-03-01</td>\n",
       "      <td>https://www.clarin.com/politica/cristina-hijos...</td>\n",
       "      <td>Clarin</td>\n",
       "      <td>NaN</td>\n",
       "      <td>1101346845589233665</td>\n",
       "      <td>271519704</td>\n",
       "    </tr>\n",
       "    <tr>\n",
       "      <th>2</th>\n",
       "      <td>2019-03-01</td>\n",
       "      <td>https://www.clarin.com/politica/cristina-hijos...</td>\n",
       "      <td>Clarin</td>\n",
       "      <td>NaN</td>\n",
       "      <td>1101350580142903296</td>\n",
       "      <td>987494618156675072</td>\n",
       "    </tr>\n",
       "    <tr>\n",
       "      <th>3</th>\n",
       "      <td>2019-03-01</td>\n",
       "      <td>https://www.clarin.com/politica/cristina-hijos...</td>\n",
       "      <td>Clarin</td>\n",
       "      <td>NaN</td>\n",
       "      <td>1101350441126936580</td>\n",
       "      <td>770375532</td>\n",
       "    </tr>\n",
       "    <tr>\n",
       "      <th>4</th>\n",
       "      <td>2019-03-01</td>\n",
       "      <td>https://www.clarin.com/politica/cristina-hijos...</td>\n",
       "      <td>Clarin</td>\n",
       "      <td>NaN</td>\n",
       "      <td>1101353444135370754</td>\n",
       "      <td>740350122974937088</td>\n",
       "    </tr>\n",
       "  </tbody>\n",
       "</table>\n",
       "</div>"
      ],
      "text/plain": [
       "       fecha                                       url_expanded   medio  \\\n",
       "0 2019-03-01  https://www.clarin.com/politica/cristina-hijos...  Clarin   \n",
       "1 2019-03-01  https://www.clarin.com/politica/cristina-hijos...  Clarin   \n",
       "2 2019-03-01  https://www.clarin.com/politica/cristina-hijos...  Clarin   \n",
       "3 2019-03-01  https://www.clarin.com/politica/cristina-hijos...  Clarin   \n",
       "4 2019-03-01  https://www.clarin.com/politica/cristina-hijos...  Clarin   \n",
       "\n",
       "  opinion_dinamic                tw_id              usr_id  \n",
       "0             NaN  1101346910135377920  716295311342321665  \n",
       "1             NaN  1101346845589233665           271519704  \n",
       "2             NaN  1101350580142903296  987494618156675072  \n",
       "3             NaN  1101350441126936580           770375532  \n",
       "4             NaN  1101353444135370754  740350122974937088  "
      ]
     },
     "execution_count": 4,
     "metadata": {},
     "output_type": "execute_result"
    }
   ],
   "source": [
    "# Data with only columns of interest\n",
    "data = pd.read_csv('Data/dataEchoChambers_with_article_info.csv', usecols=['tw_id', 'fecha', 'usr_id', 'opinion_dinamic', 'url_expanded', 'medio'])\n",
    "data['fecha'] = pd.to_datetime(data['fecha'])\n",
    "data.head(n = 5)"
   ]
  },
  {
   "cell_type": "code",
   "execution_count": 5,
   "id": "d1d1d332",
   "metadata": {
    "scrolled": true
   },
   "outputs": [
    {
     "data": {
      "text/html": [
       "<div>\n",
       "<style scoped>\n",
       "    .dataframe tbody tr th:only-of-type {\n",
       "        vertical-align: middle;\n",
       "    }\n",
       "\n",
       "    .dataframe tbody tr th {\n",
       "        vertical-align: top;\n",
       "    }\n",
       "\n",
       "    .dataframe thead th {\n",
       "        text-align: right;\n",
       "    }\n",
       "</style>\n",
       "<table border=\"1\" class=\"dataframe\">\n",
       "  <thead>\n",
       "    <tr style=\"text-align: right;\">\n",
       "      <th></th>\n",
       "      <th>uid</th>\n",
       "      <th>msi</th>\n",
       "    </tr>\n",
       "  </thead>\n",
       "  <tbody>\n",
       "    <tr>\n",
       "      <th>0</th>\n",
       "      <td>12864</td>\n",
       "      <td>0.861894</td>\n",
       "    </tr>\n",
       "    <tr>\n",
       "      <th>1</th>\n",
       "      <td>58613</td>\n",
       "      <td>0.672147</td>\n",
       "    </tr>\n",
       "    <tr>\n",
       "      <th>2</th>\n",
       "      <td>59173</td>\n",
       "      <td>-0.014711</td>\n",
       "    </tr>\n",
       "    <tr>\n",
       "      <th>3</th>\n",
       "      <td>624143</td>\n",
       "      <td>0.563749</td>\n",
       "    </tr>\n",
       "    <tr>\n",
       "      <th>4</th>\n",
       "      <td>760916</td>\n",
       "      <td>0.645047</td>\n",
       "    </tr>\n",
       "  </tbody>\n",
       "</table>\n",
       "</div>"
      ],
      "text/plain": [
       "      uid       msi\n",
       "0   12864  0.861894\n",
       "1   58613  0.672147\n",
       "2   59173 -0.014711\n",
       "3  624143  0.563749\n",
       "4  760916  0.645047"
      ]
     },
     "execution_count": 5,
     "metadata": {},
     "output_type": "execute_result"
    }
   ],
   "source": [
    "# Precomputed MSI of the users\n",
    "score_users = pd.read_csv('Results/MSI_users.csv')\n",
    "score_users.head()"
   ]
  },
  {
   "cell_type": "markdown",
   "id": "d76b3adf",
   "metadata": {},
   "source": [
    "### Ideological valence\n",
    "\n",
    "We define the idelogical valence as the mean opinion of labeled users."
   ]
  },
  {
   "cell_type": "code",
   "execution_count": 75,
   "id": "2d58581c-e23a-4ac0-ba74-13b8b534b9a7",
   "metadata": {},
   "outputs": [],
   "source": [
    "data_opinion = data[(data.opinion_dinamic == 'MP') | (data.opinion_dinamic == 'FF')].copy()\n",
    "data_opinion['opinion_valence'] = data_opinion.apply(lambda x: 1 if x['opinion_dinamic'] == 'MP' else -1, axis = 1)"
   ]
  },
  {
   "cell_type": "code",
   "execution_count": 77,
   "id": "f9945c98-02c2-49dd-a3c2-5c3d4c9cbdfc",
   "metadata": {},
   "outputs": [
    {
     "data": {
      "text/plain": [
       "usr_id\n",
       "58613     0.0\n",
       "760916   -1.0\n",
       "778189    1.0\n",
       "780281   -1.0\n",
       "788034   -1.0\n",
       "Name: opinion_valence, dtype: float64"
      ]
     },
     "execution_count": 77,
     "metadata": {},
     "output_type": "execute_result"
    }
   ],
   "source": [
    "ideological_valence_users = data_opinion.groupby('usr_id')['opinion_valence'].mean()\n",
    "ideological_valence_users.head()"
   ]
  },
  {
   "cell_type": "code",
   "execution_count": 14,
   "id": "dcc1b19e-d67c-4935-8bc2-9f8cfa7dd1ff",
   "metadata": {},
   "outputs": [],
   "source": [
    "# Merging of all data\n",
    "users_msi_iv = score_users.merge(ideological_valence_users.reset_index(), left_on='uid', right_on='usr_id')[['uid', 'msi', 'opinion_valence']]\n",
    "users_msi_iv.head()"
   ]
  },
  {
   "cell_type": "markdown",
   "id": "4f6f794b",
   "metadata": {},
   "source": [
    "### Figure "
   ]
  },
  {
   "cell_type": "code",
   "execution_count": 74,
   "id": "2d61a3c8-198f-4bd2-837c-be9feaaf2171",
   "metadata": {},
   "outputs": [
    {
     "name": "stderr",
     "output_type": "stream",
     "text": [
      "/tmp/ipykernel_34151/3367598344.py:13: UserWarning: The figure layout has changed to tight\n",
      "  plt.tight_layout()\n"
     ]
    },
    {
     "data": {
      "text/plain": [
       "<Figure size 9600x9600 with 0 Axes>"
      ]
     },
     "metadata": {},
     "output_type": "display_data"
    },
    {
     "data": {
      "image/png": "[encoded data removed]",
      "text/plain": [
       "<Figure size 600x600 with 3 Axes>"
      ]
     },
     "metadata": {},
     "output_type": "display_data"
    }
   ],
   "source": [
    "plt.figure(dpi = 600, figsize=(16,16))\n",
    "\n",
    "ax1 = sns.jointplot(x = users_msi_iv['msi'], y = users_msi_iv['opinion_valence'], thresh=0, levels = 20, \n",
    "                    cmap=\"magma\", kind = 'kde', palette = 'magma', fill = True, bw_method = 0.15, cbar = False,\n",
    "                    marginal_kws = dict(color = 'grey'))\n",
    "\n",
    "plt.sca(ax1.ax_joint)\n",
    "plt.xlim(np.quantile(score_users['msi'].to_list(), q = [0.005, 0.995]) + [-0.35, 0.35])\n",
    "plt.xlabel('MSI', size = 24)\n",
    "plt.ylabel('IV', size = 24)\n",
    "plt.xticks([-2, -1, 0, 1], size = 16)\n",
    "plt.yticks([-1, 0, 1], size = 16)\n",
    "plt.tight_layout()\n",
    "plt.savefig('Results/MSI_ideological_valence.png')\n",
    "plt.savefig('Results/MSI_ideological_valence.pdf')\n",
    "plt.show()"
   ]
  },
  {
   "cell_type": "code",
   "execution_count": null,
   "id": "ae922ed4",
   "metadata": {},
   "outputs": [],
   "source": []
  }
 ],
 "metadata": {
  "kernelspec": {
   "display_name": "Python 3 (ipykernel)",
   "language": "python",
   "name": "python3"
  },
  "language_info": {
   "codemirror_mode": {
    "name": "ipython",
    "version": 3
   },
   "file_extension": ".py",
   "mimetype": "text/x-python",
   "name": "python",
   "nbconvert_exporter": "python",
   "pygments_lexer": "ipython3",
   "version": "3.8.10"
  }
 },
 "nbformat": 4,
 "nbformat_minor": 5
}
