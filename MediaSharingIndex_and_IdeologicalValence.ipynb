{
 "cells": [
  {
   "cell_type": "markdown",
   "id": "35c2ff33",
   "metadata": {},
   "source": [
    "### MSI related to ideological valence"
   ]
  },
  {
   "cell_type": "code",
   "execution_count": 1,
   "id": "6cf18a9f",
   "metadata": {},
   "outputs": [],
   "source": [
    "import numpy as np\n",
    "import pandas as pd\n",
    "import matplotlib.pyplot as plt\n",
    "from sklearn.preprocessing import OneHotEncoder\n",
    "import seaborn as sns "
   ]
  },
  {
   "cell_type": "code",
   "execution_count": 2,
   "id": "b817e8f2",
   "metadata": {},
   "outputs": [
    {
     "data": {
      "text/html": [
       "<div>\n",
       "<style scoped>\n",
       "    .dataframe tbody tr th:only-of-type {\n",
       "        vertical-align: middle;\n",
       "    }\n",
       "\n",
       "    .dataframe tbody tr th {\n",
       "        vertical-align: top;\n",
       "    }\n",
       "\n",
       "    .dataframe thead th {\n",
       "        text-align: right;\n",
       "    }\n",
       "</style>\n",
       "<table border=\"1\" class=\"dataframe\">\n",
       "  <thead>\n",
       "    <tr style=\"text-align: right;\">\n",
       "      <th></th>\n",
       "      <th>url</th>\n",
       "      <th>outlet</th>\n",
       "      <th>dynamic_opinion</th>\n",
       "      <th>tid</th>\n",
       "      <th>uid</th>\n",
       "    </tr>\n",
       "  </thead>\n",
       "  <tbody>\n",
       "    <tr>\n",
       "      <th>0</th>\n",
       "      <td>https://www.clarin.com/politica/cristina-hijos...</td>\n",
       "      <td>Clarin</td>\n",
       "      <td>NaN</td>\n",
       "      <td>3123001870860070177</td>\n",
       "      <td>-5290478328161710131</td>\n",
       "    </tr>\n",
       "    <tr>\n",
       "      <th>1</th>\n",
       "      <td>https://www.clarin.com/politica/cristina-hijos...</td>\n",
       "      <td>Clarin</td>\n",
       "      <td>NaN</td>\n",
       "      <td>1161354566247419187</td>\n",
       "      <td>1984147057615254567</td>\n",
       "    </tr>\n",
       "    <tr>\n",
       "      <th>2</th>\n",
       "      <td>https://www.clarin.com/politica/cristina-hijos...</td>\n",
       "      <td>Clarin</td>\n",
       "      <td>NaN</td>\n",
       "      <td>-8265852459726288982</td>\n",
       "      <td>907971274336289915</td>\n",
       "    </tr>\n",
       "    <tr>\n",
       "      <th>3</th>\n",
       "      <td>https://www.clarin.com/politica/cristina-hijos...</td>\n",
       "      <td>Clarin</td>\n",
       "      <td>NaN</td>\n",
       "      <td>2424256138563082008</td>\n",
       "      <td>-1315437987437732754</td>\n",
       "    </tr>\n",
       "    <tr>\n",
       "      <th>4</th>\n",
       "      <td>https://www.clarin.com/politica/cristina-hijos...</td>\n",
       "      <td>Clarin</td>\n",
       "      <td>NaN</td>\n",
       "      <td>-8244136094798448801</td>\n",
       "      <td>6507777798650809238</td>\n",
       "    </tr>\n",
       "  </tbody>\n",
       "</table>\n",
       "</div>"
      ],
      "text/plain": [
       "                                                 url  outlet dynamic_opinion  \\\n",
       "0  https://www.clarin.com/politica/cristina-hijos...  Clarin             NaN   \n",
       "1  https://www.clarin.com/politica/cristina-hijos...  Clarin             NaN   \n",
       "2  https://www.clarin.com/politica/cristina-hijos...  Clarin             NaN   \n",
       "3  https://www.clarin.com/politica/cristina-hijos...  Clarin             NaN   \n",
       "4  https://www.clarin.com/politica/cristina-hijos...  Clarin             NaN   \n",
       "\n",
       "                   tid                  uid  \n",
       "0  3123001870860070177 -5290478328161710131  \n",
       "1  1161354566247419187  1984147057615254567  \n",
       "2 -8265852459726288982   907971274336289915  \n",
       "3  2424256138563082008 -1315437987437732754  \n",
       "4 -8244136094798448801  6507777798650809238  "
      ]
     },
     "execution_count": 2,
     "metadata": {},
     "output_type": "execute_result"
    }
   ],
   "source": [
    "# Data with only columns of interest\n",
    "data = pd.read_csv('Data/data.csv', usecols=['tid', 'uid', 'dynamic_opinion', 'url', 'outlet'])\n",
    "data.head(n = 5)"
   ]
  },
  {
   "cell_type": "code",
   "execution_count": 3,
   "id": "d1d1d332",
   "metadata": {
    "scrolled": true
   },
   "outputs": [
    {
     "data": {
      "text/html": [
       "<div>\n",
       "<style scoped>\n",
       "    .dataframe tbody tr th:only-of-type {\n",
       "        vertical-align: middle;\n",
       "    }\n",
       "\n",
       "    .dataframe tbody tr th {\n",
       "        vertical-align: top;\n",
       "    }\n",
       "\n",
       "    .dataframe thead th {\n",
       "        text-align: right;\n",
       "    }\n",
       "</style>\n",
       "<table border=\"1\" class=\"dataframe\">\n",
       "  <thead>\n",
       "    <tr style=\"text-align: right;\">\n",
       "      <th></th>\n",
       "      <th>uid</th>\n",
       "      <th>msi</th>\n",
       "    </tr>\n",
       "  </thead>\n",
       "  <tbody>\n",
       "    <tr>\n",
       "      <th>0</th>\n",
       "      <td>-9223322503111527589</td>\n",
       "      <td>-1.756027</td>\n",
       "    </tr>\n",
       "    <tr>\n",
       "      <th>1</th>\n",
       "      <td>-9222975002879431468</td>\n",
       "      <td>0.877877</td>\n",
       "    </tr>\n",
       "    <tr>\n",
       "      <th>2</th>\n",
       "      <td>-9222847178814893203</td>\n",
       "      <td>0.806732</td>\n",
       "    </tr>\n",
       "    <tr>\n",
       "      <th>3</th>\n",
       "      <td>-9222742428357238434</td>\n",
       "      <td>-0.721132</td>\n",
       "    </tr>\n",
       "    <tr>\n",
       "      <th>4</th>\n",
       "      <td>-9222729263223077870</td>\n",
       "      <td>0.860195</td>\n",
       "    </tr>\n",
       "  </tbody>\n",
       "</table>\n",
       "</div>"
      ],
      "text/plain": [
       "                   uid       msi\n",
       "0 -9223322503111527589 -1.756027\n",
       "1 -9222975002879431468  0.877877\n",
       "2 -9222847178814893203  0.806732\n",
       "3 -9222742428357238434 -0.721132\n",
       "4 -9222729263223077870  0.860195"
      ]
     },
     "execution_count": 3,
     "metadata": {},
     "output_type": "execute_result"
    }
   ],
   "source": [
    "# Precomputed MSI of the users\n",
    "score_users = pd.read_csv('Results/MSI_users.csv')\n",
    "score_users.head()"
   ]
  },
  {
   "cell_type": "markdown",
   "id": "d76b3adf",
   "metadata": {},
   "source": [
    "### Ideological valence\n",
    "\n",
    "We define the idelogical valence as the mean opinion of labeled users."
   ]
  },
  {
   "cell_type": "code",
   "execution_count": 9,
   "id": "2d58581c-e23a-4ac0-ba74-13b8b534b9a7",
   "metadata": {},
   "outputs": [],
   "source": [
    "data_opinion = data[(data.dynamic_opinion == 'MP') | (data.dynamic_opinion == 'FF')].copy()\n",
    "data_opinion['opinion_valence'] = data_opinion.apply(lambda x: 1 if x['dynamic_opinion'] == 'MP' else -1, axis = 1)"
   ]
  },
  {
   "cell_type": "code",
   "execution_count": 10,
   "id": "f9945c98-02c2-49dd-a3c2-5c3d4c9cbdfc",
   "metadata": {},
   "outputs": [
    {
     "data": {
      "text/plain": [
       "uid\n",
       "-9221802327003542178    1.0\n",
       "-9221536826762106751   -1.0\n",
       "-9221081059979757846   -1.0\n",
       "-9221012274520296647   -1.0\n",
       "-9220287581485854731    1.0\n",
       "Name: opinion_valence, dtype: float64"
      ]
     },
     "execution_count": 10,
     "metadata": {},
     "output_type": "execute_result"
    }
   ],
   "source": [
    "# Calculate the mean of the ideological valence\n",
    "ideological_valence_users = data_opinion.groupby('uid')['opinion_valence'].mean()\n",
    "ideological_valence_users.head()"
   ]
  },
  {
   "cell_type": "code",
   "execution_count": 11,
   "id": "dcc1b19e-d67c-4935-8bc2-9f8cfa7dd1ff",
   "metadata": {},
   "outputs": [
    {
     "data": {
      "text/html": [
       "<div>\n",
       "<style scoped>\n",
       "    .dataframe tbody tr th:only-of-type {\n",
       "        vertical-align: middle;\n",
       "    }\n",
       "\n",
       "    .dataframe tbody tr th {\n",
       "        vertical-align: top;\n",
       "    }\n",
       "\n",
       "    .dataframe thead th {\n",
       "        text-align: right;\n",
       "    }\n",
       "</style>\n",
       "<table border=\"1\" class=\"dataframe\">\n",
       "  <thead>\n",
       "    <tr style=\"text-align: right;\">\n",
       "      <th></th>\n",
       "      <th>uid</th>\n",
       "      <th>msi</th>\n",
       "      <th>opinion_valence</th>\n",
       "    </tr>\n",
       "  </thead>\n",
       "  <tbody>\n",
       "    <tr>\n",
       "      <th>0</th>\n",
       "      <td>-9221802327003542178</td>\n",
       "      <td>0.744348</td>\n",
       "      <td>1.0</td>\n",
       "    </tr>\n",
       "    <tr>\n",
       "      <th>1</th>\n",
       "      <td>-9221536826762106751</td>\n",
       "      <td>-1.756027</td>\n",
       "      <td>-1.0</td>\n",
       "    </tr>\n",
       "    <tr>\n",
       "      <th>2</th>\n",
       "      <td>-9221081059979757846</td>\n",
       "      <td>0.694314</td>\n",
       "      <td>-1.0</td>\n",
       "    </tr>\n",
       "    <tr>\n",
       "      <th>3</th>\n",
       "      <td>-9221012274520296647</td>\n",
       "      <td>-1.756027</td>\n",
       "      <td>-1.0</td>\n",
       "    </tr>\n",
       "    <tr>\n",
       "      <th>4</th>\n",
       "      <td>-9220287581485854731</td>\n",
       "      <td>1.677637</td>\n",
       "      <td>1.0</td>\n",
       "    </tr>\n",
       "  </tbody>\n",
       "</table>\n",
       "</div>"
      ],
      "text/plain": [
       "                   uid       msi  opinion_valence\n",
       "0 -9221802327003542178  0.744348              1.0\n",
       "1 -9221536826762106751 -1.756027             -1.0\n",
       "2 -9221081059979757846  0.694314             -1.0\n",
       "3 -9221012274520296647 -1.756027             -1.0\n",
       "4 -9220287581485854731  1.677637              1.0"
      ]
     },
     "execution_count": 11,
     "metadata": {},
     "output_type": "execute_result"
    }
   ],
   "source": [
    "# Merging of all data\n",
    "users_msi_iv = score_users.merge(ideological_valence_users.reset_index(), left_on='uid', right_on='uid')[['uid', 'msi', 'opinion_valence']]\n",
    "users_msi_iv.head()"
   ]
  },
  {
   "cell_type": "markdown",
   "id": "4f6f794b",
   "metadata": {},
   "source": [
    "### Figure "
   ]
  },
  {
   "cell_type": "code",
   "execution_count": 12,
   "id": "2d61a3c8-198f-4bd2-837c-be9feaaf2171",
   "metadata": {},
   "outputs": [
    {
     "name": "stderr",
     "output_type": "stream",
     "text": [
      "/tmp/ipykernel_118635/3367598344.py:13: UserWarning: The figure layout has changed to tight\n",
      "  plt.tight_layout()\n"
     ]
    },
    {
     "data": {
      "text/plain": [
       "<Figure size 9600x9600 with 0 Axes>"
      ]
     },
     "metadata": {},
     "output_type": "display_data"
    },
    {
     "data": {
      "image/png": "[encoded data removed]",
      "text/plain": [
       "<Figure size 600x600 with 3 Axes>"
      ]
     },
     "metadata": {},
     "output_type": "display_data"
    }
   ],
   "source": [
    "plt.figure(dpi = 600, figsize=(16,16))\n",
    "\n",
    "ax1 = sns.jointplot(x = users_msi_iv['msi'], y = users_msi_iv['opinion_valence'], thresh=0, levels = 20, \n",
    "                    cmap=\"magma\", kind = 'kde', palette = 'magma', fill = True, bw_method = 0.15, cbar = False,\n",
    "                    marginal_kws = dict(color = 'grey'))\n",
    "\n",
    "plt.sca(ax1.ax_joint)\n",
    "plt.xlim(np.quantile(score_users['msi'].to_list(), q = [0.005, 0.995]) + [-0.35, 0.35])\n",
    "plt.xlabel('MSI', size = 24)\n",
    "plt.ylabel('IV', size = 24)\n",
    "plt.xticks([-2, -1, 0, 1], size = 16)\n",
    "plt.yticks([-1, 0, 1], size = 16)\n",
    "plt.tight_layout()\n",
    "plt.savefig('Results/MSI_ideological_valence.png')\n",
    "plt.savefig('Results/MSI_ideological_valence.pdf')\n",
    "plt.show()"
   ]
  }
 ],
 "metadata": {
  "kernelspec": {
   "display_name": "Python 3 (ipykernel)",
   "language": "python",
   "name": "python3"
  },
  "language_info": {
   "codemirror_mode": {
    "name": "ipython",
    "version": 3
   },
   "file_extension": ".py",
   "mimetype": "text/x-python",
   "name": "python",
   "nbconvert_exporter": "python",
   "pygments_lexer": "ipython3",
   "version": "3.8.10"
  }
 },
 "nbformat": 4,
 "nbformat_minor": 5
}
