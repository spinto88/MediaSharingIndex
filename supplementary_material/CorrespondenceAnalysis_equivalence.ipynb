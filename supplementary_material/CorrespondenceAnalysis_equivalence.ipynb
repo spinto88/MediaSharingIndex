{
 "cells": [
  {
   "cell_type": "markdown",
   "id": "35c2ff33",
   "metadata": {},
   "source": [
    "### Media Sharing Index (MSI)\n",
    "\n",
    "MSI is based on the media outlets shared by each user, therefore this index reflects the group of media an user shares."
   ]
  },
  {
   "cell_type": "code",
   "execution_count": 1,
   "id": "6cf18a9f",
   "metadata": {},
   "outputs": [],
   "source": [
    "import numpy as np\n",
    "import pandas as pd\n",
    "import matplotlib.pyplot as plt\n",
    "from sklearn.preprocessing import OneHotEncoder\n",
    "import matplotlib \n",
    "\n",
    "np.random.seed(123458)"
   ]
  },
  {
   "cell_type": "code",
   "execution_count": 2,
   "id": "d1d1d332",
   "metadata": {
    "scrolled": true
   },
   "outputs": [
    {
     "data": {
      "text/html": [
       "<div>\n",
       "<style scoped>\n",
       "    .dataframe tbody tr th:only-of-type {\n",
       "        vertical-align: middle;\n",
       "    }\n",
       "\n",
       "    .dataframe tbody tr th {\n",
       "        vertical-align: top;\n",
       "    }\n",
       "\n",
       "    .dataframe thead th {\n",
       "        text-align: right;\n",
       "    }\n",
       "</style>\n",
       "<table border=\"1\" class=\"dataframe\">\n",
       "  <thead>\n",
       "    <tr style=\"text-align: right;\">\n",
       "      <th></th>\n",
       "      <th>url</th>\n",
       "      <th>outlet</th>\n",
       "      <th>dynamic_opinion</th>\n",
       "      <th>tid</th>\n",
       "      <th>uid</th>\n",
       "    </tr>\n",
       "  </thead>\n",
       "  <tbody>\n",
       "    <tr>\n",
       "      <th>0</th>\n",
       "      <td>https://www.clarin.com/politica/cristina-hijos...</td>\n",
       "      <td>Clarin</td>\n",
       "      <td>NaN</td>\n",
       "      <td>3123001870860070177</td>\n",
       "      <td>-5290478328161710131</td>\n",
       "    </tr>\n",
       "    <tr>\n",
       "      <th>1</th>\n",
       "      <td>https://www.clarin.com/politica/cristina-hijos...</td>\n",
       "      <td>Clarin</td>\n",
       "      <td>NaN</td>\n",
       "      <td>1161354566247419187</td>\n",
       "      <td>1984147057615254567</td>\n",
       "    </tr>\n",
       "    <tr>\n",
       "      <th>2</th>\n",
       "      <td>https://www.clarin.com/politica/cristina-hijos...</td>\n",
       "      <td>Clarin</td>\n",
       "      <td>NaN</td>\n",
       "      <td>-8265852459726288982</td>\n",
       "      <td>907971274336289915</td>\n",
       "    </tr>\n",
       "    <tr>\n",
       "      <th>3</th>\n",
       "      <td>https://www.clarin.com/politica/cristina-hijos...</td>\n",
       "      <td>Clarin</td>\n",
       "      <td>NaN</td>\n",
       "      <td>2424256138563082008</td>\n",
       "      <td>-1315437987437732754</td>\n",
       "    </tr>\n",
       "    <tr>\n",
       "      <th>4</th>\n",
       "      <td>https://www.clarin.com/politica/cristina-hijos...</td>\n",
       "      <td>Clarin</td>\n",
       "      <td>NaN</td>\n",
       "      <td>-8244136094798448801</td>\n",
       "      <td>6507777798650809238</td>\n",
       "    </tr>\n",
       "  </tbody>\n",
       "</table>\n",
       "</div>"
      ],
      "text/plain": [
       "                                                 url  outlet dynamic_opinion  \\\n",
       "0  https://www.clarin.com/politica/cristina-hijos...  Clarin             NaN   \n",
       "1  https://www.clarin.com/politica/cristina-hijos...  Clarin             NaN   \n",
       "2  https://www.clarin.com/politica/cristina-hijos...  Clarin             NaN   \n",
       "3  https://www.clarin.com/politica/cristina-hijos...  Clarin             NaN   \n",
       "4  https://www.clarin.com/politica/cristina-hijos...  Clarin             NaN   \n",
       "\n",
       "                   tid                  uid  \n",
       "0  3123001870860070177 -5290478328161710131  \n",
       "1  1161354566247419187  1984147057615254567  \n",
       "2 -8265852459726288982   907971274336289915  \n",
       "3  2424256138563082008 -1315437987437732754  \n",
       "4 -8244136094798448801  6507777798650809238  "
      ]
     },
     "execution_count": 2,
     "metadata": {},
     "output_type": "execute_result"
    }
   ],
   "source": [
    "# Data with only columns of interest\n",
    "data = pd.read_csv('../Data/data.csv', usecols=['tid', 'uid', 'dynamic_opinion', 'url', 'outlet'])\n",
    "data.head(n = 5)"
   ]
  },
  {
   "cell_type": "markdown",
   "id": "d76b3adf",
   "metadata": {},
   "source": [
    "### Encoding matrix user - media share\n",
    "User - media shares dataframe based on one-hot encoding of media shares"
   ]
  },
  {
   "cell_type": "code",
   "execution_count": 3,
   "id": "9eedd578",
   "metadata": {},
   "outputs": [],
   "source": [
    "user_media_df = pd.DataFrame()\n",
    "\n",
    "# user_id column\n",
    "user_media_df['uid'] = data['uid']\n",
    "\n",
    "#creating instance of one-hot-encoder and one-hot encoding of media shares\n",
    "encoder = OneHotEncoder(handle_unknown='ignore')\n",
    "encoder_df = pd.DataFrame(encoder.fit_transform(data[['outlet']]).toarray())\n",
    "encoder_df.columns = list(encoder.categories_[0])\n",
    "\n",
    "user_media_df = user_media_df.join(encoder_df)"
   ]
  },
  {
   "cell_type": "code",
   "execution_count": 4,
   "id": "c9d15c95",
   "metadata": {},
   "outputs": [
    {
     "data": {
      "text/html": [
       "<div>\n",
       "<style scoped>\n",
       "    .dataframe tbody tr th:only-of-type {\n",
       "        vertical-align: middle;\n",
       "    }\n",
       "\n",
       "    .dataframe tbody tr th {\n",
       "        vertical-align: top;\n",
       "    }\n",
       "\n",
       "    .dataframe thead th {\n",
       "        text-align: right;\n",
       "    }\n",
       "</style>\n",
       "<table border=\"1\" class=\"dataframe\">\n",
       "  <thead>\n",
       "    <tr style=\"text-align: right;\">\n",
       "      <th></th>\n",
       "      <th>Ambito Financiero</th>\n",
       "      <th>Clarin</th>\n",
       "      <th>Contexto</th>\n",
       "      <th>El Cronista</th>\n",
       "      <th>El Destape</th>\n",
       "      <th>El Dia</th>\n",
       "      <th>El Litoral</th>\n",
       "      <th>Infobae</th>\n",
       "      <th>Jornada</th>\n",
       "      <th>La Izquierda Diario</th>\n",
       "      <th>La Nacion</th>\n",
       "      <th>Minuto Uno</th>\n",
       "      <th>Pagina 12</th>\n",
       "      <th>Perfil</th>\n",
       "      <th>Radio Dos</th>\n",
       "      <th>Radio Mitre</th>\n",
       "      <th>Todo Noticias</th>\n",
       "    </tr>\n",
       "    <tr>\n",
       "      <th>uid</th>\n",
       "      <th></th>\n",
       "      <th></th>\n",
       "      <th></th>\n",
       "      <th></th>\n",
       "      <th></th>\n",
       "      <th></th>\n",
       "      <th></th>\n",
       "      <th></th>\n",
       "      <th></th>\n",
       "      <th></th>\n",
       "      <th></th>\n",
       "      <th></th>\n",
       "      <th></th>\n",
       "      <th></th>\n",
       "      <th></th>\n",
       "      <th></th>\n",
       "      <th></th>\n",
       "    </tr>\n",
       "  </thead>\n",
       "  <tbody>\n",
       "    <tr>\n",
       "      <th>-9223322503111527589</th>\n",
       "      <td>0.0</td>\n",
       "      <td>0.0</td>\n",
       "      <td>0.0</td>\n",
       "      <td>0.0</td>\n",
       "      <td>1.0</td>\n",
       "      <td>0.0</td>\n",
       "      <td>0.0</td>\n",
       "      <td>0.0</td>\n",
       "      <td>0.0</td>\n",
       "      <td>0.0</td>\n",
       "      <td>0.0</td>\n",
       "      <td>0.0</td>\n",
       "      <td>0.0</td>\n",
       "      <td>0.0</td>\n",
       "      <td>0.0</td>\n",
       "      <td>0.0</td>\n",
       "      <td>0.0</td>\n",
       "    </tr>\n",
       "    <tr>\n",
       "      <th>-9222975002879431468</th>\n",
       "      <td>0.0</td>\n",
       "      <td>3.0</td>\n",
       "      <td>0.0</td>\n",
       "      <td>0.0</td>\n",
       "      <td>0.0</td>\n",
       "      <td>0.0</td>\n",
       "      <td>0.0</td>\n",
       "      <td>1.0</td>\n",
       "      <td>0.0</td>\n",
       "      <td>0.0</td>\n",
       "      <td>2.0</td>\n",
       "      <td>0.0</td>\n",
       "      <td>0.0</td>\n",
       "      <td>0.0</td>\n",
       "      <td>0.0</td>\n",
       "      <td>1.0</td>\n",
       "      <td>1.0</td>\n",
       "    </tr>\n",
       "    <tr>\n",
       "      <th>-9222847178814893203</th>\n",
       "      <td>0.0</td>\n",
       "      <td>5.0</td>\n",
       "      <td>0.0</td>\n",
       "      <td>0.0</td>\n",
       "      <td>0.0</td>\n",
       "      <td>0.0</td>\n",
       "      <td>0.0</td>\n",
       "      <td>0.0</td>\n",
       "      <td>0.0</td>\n",
       "      <td>0.0</td>\n",
       "      <td>1.0</td>\n",
       "      <td>0.0</td>\n",
       "      <td>0.0</td>\n",
       "      <td>0.0</td>\n",
       "      <td>0.0</td>\n",
       "      <td>0.0</td>\n",
       "      <td>0.0</td>\n",
       "    </tr>\n",
       "    <tr>\n",
       "      <th>-9222742428357238434</th>\n",
       "      <td>1.0</td>\n",
       "      <td>1.0</td>\n",
       "      <td>0.0</td>\n",
       "      <td>0.0</td>\n",
       "      <td>0.0</td>\n",
       "      <td>0.0</td>\n",
       "      <td>0.0</td>\n",
       "      <td>0.0</td>\n",
       "      <td>0.0</td>\n",
       "      <td>0.0</td>\n",
       "      <td>0.0</td>\n",
       "      <td>1.0</td>\n",
       "      <td>1.0</td>\n",
       "      <td>0.0</td>\n",
       "      <td>0.0</td>\n",
       "      <td>0.0</td>\n",
       "      <td>0.0</td>\n",
       "    </tr>\n",
       "    <tr>\n",
       "      <th>-9222729263223077870</th>\n",
       "      <td>0.0</td>\n",
       "      <td>0.0</td>\n",
       "      <td>0.0</td>\n",
       "      <td>0.0</td>\n",
       "      <td>0.0</td>\n",
       "      <td>0.0</td>\n",
       "      <td>0.0</td>\n",
       "      <td>0.0</td>\n",
       "      <td>0.0</td>\n",
       "      <td>0.0</td>\n",
       "      <td>0.0</td>\n",
       "      <td>0.0</td>\n",
       "      <td>0.0</td>\n",
       "      <td>0.0</td>\n",
       "      <td>0.0</td>\n",
       "      <td>0.0</td>\n",
       "      <td>1.0</td>\n",
       "    </tr>\n",
       "  </tbody>\n",
       "</table>\n",
       "</div>"
      ],
      "text/plain": [
       "                      Ambito Financiero  Clarin  Contexto  El Cronista  \\\n",
       "uid                                                                      \n",
       "-9223322503111527589                0.0     0.0       0.0          0.0   \n",
       "-9222975002879431468                0.0     3.0       0.0          0.0   \n",
       "-9222847178814893203                0.0     5.0       0.0          0.0   \n",
       "-9222742428357238434                1.0     1.0       0.0          0.0   \n",
       "-9222729263223077870                0.0     0.0       0.0          0.0   \n",
       "\n",
       "                      El Destape  El Dia  El Litoral  Infobae  Jornada  \\\n",
       "uid                                                                      \n",
       "-9223322503111527589         1.0     0.0         0.0      0.0      0.0   \n",
       "-9222975002879431468         0.0     0.0         0.0      1.0      0.0   \n",
       "-9222847178814893203         0.0     0.0         0.0      0.0      0.0   \n",
       "-9222742428357238434         0.0     0.0         0.0      0.0      0.0   \n",
       "-9222729263223077870         0.0     0.0         0.0      0.0      0.0   \n",
       "\n",
       "                      La Izquierda Diario  La Nacion  Minuto Uno  Pagina 12  \\\n",
       "uid                                                                           \n",
       "-9223322503111527589                  0.0        0.0         0.0        0.0   \n",
       "-9222975002879431468                  0.0        2.0         0.0        0.0   \n",
       "-9222847178814893203                  0.0        1.0         0.0        0.0   \n",
       "-9222742428357238434                  0.0        0.0         1.0        1.0   \n",
       "-9222729263223077870                  0.0        0.0         0.0        0.0   \n",
       "\n",
       "                      Perfil  Radio Dos  Radio Mitre  Todo Noticias  \n",
       "uid                                                                  \n",
       "-9223322503111527589     0.0        0.0          0.0            0.0  \n",
       "-9222975002879431468     0.0        0.0          1.0            1.0  \n",
       "-9222847178814893203     0.0        0.0          0.0            0.0  \n",
       "-9222742428357238434     0.0        0.0          0.0            0.0  \n",
       "-9222729263223077870     0.0        0.0          0.0            1.0  "
      ]
     },
     "execution_count": 4,
     "metadata": {},
     "output_type": "execute_result"
    }
   ],
   "source": [
    "user_media_df = user_media_df.groupby('uid').sum()\n",
    "user_media_df.head(n = 5)"
   ]
  },
  {
   "cell_type": "markdown",
   "id": "47d0e403",
   "metadata": {},
   "source": [
    "We calculate the MSI over a subset of main media outlets:"
   ]
  },
  {
   "cell_type": "code",
   "execution_count": 5,
   "id": "dec736b0-1816-497c-a83e-8103808c0cfa",
   "metadata": {},
   "outputs": [],
   "source": [
    "# principal media outlets to include in the calculation of the MSI\n",
    "ppal_media = ['Clarin', 'La Nacion', 'Pagina 12', 'Todo Noticias', 'Infobae', 'El Destape']\n",
    "ppal_media += ['Ambito Financiero', 'Minuto Uno', 'Perfil', 'El Cronista', 'Radio Mitre', 'El Dia']\n",
    "\n",
    "user_media_df_filtered = user_media_df[ppal_media].copy()\n",
    "\n",
    "# Users that share at least two media outlets\n",
    "user_media_df_filtered = user_media_df_filtered[user_media_df_filtered.apply(np.count_nonzero, axis = 1) > 1].copy()"
   ]
  },
  {
   "cell_type": "code",
   "execution_count": 6,
   "id": "ec37146d",
   "metadata": {},
   "outputs": [
    {
     "data": {
      "text/plain": [
       "Index(['Clarin', 'La Nacion', 'Pagina 12', 'Todo Noticias', 'Infobae',\n",
       "       'El Destape', 'Ambito Financiero', 'Minuto Uno', 'Perfil',\n",
       "       'El Cronista', 'Radio Mitre', 'El Dia'],\n",
       "      dtype='object')"
      ]
     },
     "execution_count": 6,
     "metadata": {},
     "output_type": "execute_result"
    }
   ],
   "source": [
    "user_media_df_filtered.columns"
   ]
  },
  {
   "cell_type": "code",
   "execution_count": 7,
   "id": "45a75c6b",
   "metadata": {},
   "outputs": [
    {
     "name": "stdout",
     "output_type": "stream",
     "text": [
      "(49183, 12)\n"
     ]
    }
   ],
   "source": [
    "# Matrix of user - media shared\n",
    "A = user_media_df_filtered.to_numpy()\n",
    "print(A.shape)"
   ]
  },
  {
   "cell_type": "markdown",
   "id": "8158d0f5",
   "metadata": {},
   "source": [
    "MSI calculated as proposed in *Lowe, W. (2008). Understanding wordscores. Political Analysis, 16(4), 356-371.*, based in weighted averages, which yields the same results as applying Correspondence Analysis:"
   ]
  },
  {
   "cell_type": "code",
   "execution_count": 8,
   "id": "20b5d235",
   "metadata": {},
   "outputs": [],
   "source": [
    "# initial values\n",
    "score_users = np.random.normal(loc = 0, scale = 1.00, size = A.shape[0])\n",
    "score_users = (score_users - np.mean(score_users))/np.std(score_users)\n",
    "\n",
    "# iteration until convergence\n",
    "for iteration in range(50):\n",
    "    \n",
    "    score_media = np.array([np.average(score_users, weights=A[:,i]) for i in range(A.shape[1])])\n",
    "    score_users = np.array([np.average(score_media, weights=A[j,:]) for j in range(A.shape[0])])\n",
    "\n",
    "    score_users = (score_users - np.mean(score_users))/np.std(score_users)\n",
    "\n",
    "# final calculation of the score of media outlets\n",
    "score_media = np.array([np.average(score_users, weights=A[:,i]) for i in range(A.shape[1])])"
   ]
  },
  {
   "cell_type": "markdown",
   "id": "b073b14c",
   "metadata": {},
   "source": [
    "Save of the data:"
   ]
  },
  {
   "cell_type": "code",
   "execution_count": 9,
   "id": "ae12a1fa",
   "metadata": {},
   "outputs": [],
   "source": [
    "msi_users = pd.DataFrame()\n",
    "msi_users['uid'] = user_media_df_filtered.index\n",
    "msi_users['msi'] = score_users"
   ]
  },
  {
   "cell_type": "markdown",
   "id": "2f30715b",
   "metadata": {},
   "source": [
    "### MSI calculated by correspondence analysis"
   ]
  },
  {
   "cell_type": "markdown",
   "id": "2f7876a3-6b90-4fdc-a2a0-2f91173524b3",
   "metadata": {},
   "source": [
    "Correspondence analysis function:"
   ]
  },
  {
   "cell_type": "code",
   "execution_count": 10,
   "id": "7bb2dc6f-56a6-47c4-b271-b51c6a1a5c8e",
   "metadata": {},
   "outputs": [],
   "source": [
    "def calculate_scores(A):\n",
    "    \n",
    "    P = (1/np.sum(A))*A # Nomalized matrix\n",
    "\n",
    "    # Defining needings for standardizing\n",
    "    n_col = np.shape(P)[1]\n",
    "    n_row = np.shape(P)[0]\n",
    "    r = np.matmul(P, np.ones((n_col,))) #rows\n",
    "    c = np.matmul(np.ones((n_row,)), P) #columns\n",
    "    r2 = r**(-0.5)\n",
    "    c2 = c**(-0.5)\n",
    "    Dr2 = np.diag(r2)\n",
    "    Dc2 = np.diag(c2)\n",
    "    r_t = np.array([r]).transpose()\n",
    "    c_new = np.array([c])\n",
    "\n",
    "    #Standardized residuals\n",
    "    S = np.matmul(np.matmul(Dr2, P - np.matmul(r_t,c_new)),Dc2)\n",
    "    \n",
    "    #FULL SVD\n",
    "    U, sig, Vt = np.linalg.svd(S, full_matrices=False)\n",
    "\n",
    "    #scores\n",
    "    X_dim1 = np.matmul(Dr2,U)[:,0] #scores matrix\n",
    "    scores = (-1 + 2 * (X_dim1-np.min(X_dim1))/np.ptp(X_dim1)) #scaled\n",
    "    \n",
    "    return scores"
   ]
  },
  {
   "cell_type": "code",
   "execution_count": 11,
   "id": "08f98d94-ae1f-4e1a-9cbf-8320caeda030",
   "metadata": {},
   "outputs": [],
   "source": [
    "# Aplication of the algorithm\n",
    "score_users_by_svd = calculate_scores(A)"
   ]
  },
  {
   "cell_type": "markdown",
   "id": "be79202a-2b1d-459e-b5f8-0c3295564434",
   "metadata": {},
   "source": [
    "#### Comparison"
   ]
  },
  {
   "cell_type": "code",
   "execution_count": 12,
   "id": "df63a90f",
   "metadata": {},
   "outputs": [],
   "source": [
    "# Append score calculated by svd \n",
    "msi_users['score_by_svd'] = score_users_by_svd"
   ]
  },
  {
   "cell_type": "code",
   "execution_count": 24,
   "id": "ad58d969-6afa-41b6-98bf-1cb22173bf29",
   "metadata": {},
   "outputs": [
    {
     "data": {
      "image/png": "[encoded data removed]",
      "text/plain": [
       "<Figure size 900x900 with 1 Axes>"
      ]
     },
     "metadata": {},
     "output_type": "display_data"
    }
   ],
   "source": [
    "plt.figure(dpi = 300, figsize=(3,3))\n",
    "plt.plot(msi_users['score_by_svd'], msi_users['msi'], marker = '.', alpha = 0.05, markersize = 5, color = 'b')\n",
    "plt.xlabel('MSI by SVD', size = 10)\n",
    "plt.ylabel('MSI by weighted average', size = 10)\n",
    "plt.tight_layout()\n",
    "plt.show()"
   ]
  },
  {
   "cell_type": "code",
   "execution_count": 22,
   "id": "617f494b-9f1c-4fe7-8eef-4af6c5783141",
   "metadata": {},
   "outputs": [
    {
     "data": {
      "text/html": [
       "<div>\n",
       "<style scoped>\n",
       "    .dataframe tbody tr th:only-of-type {\n",
       "        vertical-align: middle;\n",
       "    }\n",
       "\n",
       "    .dataframe tbody tr th {\n",
       "        vertical-align: top;\n",
       "    }\n",
       "\n",
       "    .dataframe thead th {\n",
       "        text-align: right;\n",
       "    }\n",
       "</style>\n",
       "<table border=\"1\" class=\"dataframe\">\n",
       "  <thead>\n",
       "    <tr style=\"text-align: right;\">\n",
       "      <th></th>\n",
       "      <th>msi</th>\n",
       "      <th>score_by_svd</th>\n",
       "    </tr>\n",
       "  </thead>\n",
       "  <tbody>\n",
       "    <tr>\n",
       "      <th>msi</th>\n",
       "      <td>1.000000</td>\n",
       "      <td>0.999996</td>\n",
       "    </tr>\n",
       "    <tr>\n",
       "      <th>score_by_svd</th>\n",
       "      <td>0.999996</td>\n",
       "      <td>1.000000</td>\n",
       "    </tr>\n",
       "  </tbody>\n",
       "</table>\n",
       "</div>"
      ],
      "text/plain": [
       "                   msi  score_by_svd\n",
       "msi           1.000000      0.999996\n",
       "score_by_svd  0.999996      1.000000"
      ]
     },
     "execution_count": 22,
     "metadata": {},
     "output_type": "execute_result"
    }
   ],
   "source": [
    "# Spearman correlation\n",
    "msi_users[['msi','score_by_svd']].corr('spearman')"
   ]
  }
 ],
 "metadata": {
  "kernelspec": {
   "display_name": "Python 3 (ipykernel)",
   "language": "python",
   "name": "python3"
  },
  "language_info": {
   "codemirror_mode": {
    "name": "ipython",
    "version": 3
   },
   "file_extension": ".py",
   "mimetype": "text/x-python",
   "name": "python",
   "nbconvert_exporter": "python",
   "pygments_lexer": "ipython3",
   "version": "3.8.10"
  }
 },
 "nbformat": 4,
 "nbformat_minor": 5
}
