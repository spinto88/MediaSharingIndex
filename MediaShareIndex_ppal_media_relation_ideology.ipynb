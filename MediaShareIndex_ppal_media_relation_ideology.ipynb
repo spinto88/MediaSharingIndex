{
 "cells": [
  {
   "cell_type": "markdown",
   "id": "35c2ff33",
   "metadata": {},
   "source": [
    "### Latent ideology of users\n",
    "\n",
    "LI is based on the media outlet shared by each user, therefore the ideology reflects the group of media an user shares."
   ]
  },
  {
   "cell_type": "code",
   "execution_count": 24,
   "id": "6cf18a9f",
   "metadata": {},
   "outputs": [],
   "source": [
    "import numpy as np\n",
    "import pandas as pd\n",
    "import matplotlib.pyplot as plt\n",
    "from sklearn.preprocessing import OneHotEncoder\n",
    "import matplotlib \n",
    "\n",
    "np.random.seed(123459)"
   ]
  },
  {
   "cell_type": "code",
   "execution_count": 25,
   "id": "d1d1d332",
   "metadata": {
    "scrolled": true
   },
   "outputs": [],
   "source": [
    "# Data with only columns of interest\n",
    "data = pd.read_csv('Data/dataEchoChambers_with_article_info.csv', usecols=['tw_id', 'fecha', 'usr_id', 'opinion_dinamic', 'url_expanded', 'medio'])\n",
    "data['fecha'] = pd.to_datetime(data['fecha'])\n",
    "data.head(n = 5)"
   ]
  },
  {
   "cell_type": "markdown",
   "id": "d76b3adf",
   "metadata": {},
   "source": [
    "### Encoding matrix user - media share\n",
    "User - media shares dataframe based on one-hot encoding of media shares"
   ]
  },
  {
   "cell_type": "code",
   "execution_count": 26,
   "id": "9eedd578",
   "metadata": {},
   "outputs": [],
   "source": [
    "user_media_df = pd.DataFrame()\n",
    "\n",
    "# user_id column\n",
    "user_media_df['usr_id'] = data['usr_id']\n",
    "\n",
    "#creating instance of one-hot-encoder and one-hot encoding of media shares\n",
    "encoder = OneHotEncoder(handle_unknown='ignore')\n",
    "encoder_df = pd.DataFrame(encoder.fit_transform(data[['medio']]).toarray())\n",
    "encoder_df.columns = list(encoder.categories_[0])\n",
    "\n",
    "user_media_df = user_media_df.join(encoder_df)"
   ]
  },
  {
   "cell_type": "code",
   "execution_count": 27,
   "id": "c9d15c95",
   "metadata": {},
   "outputs": [],
   "source": [
    "user_media_df = user_media_df.groupby('usr_id').sum()\n",
    "user_media_df.head(n = 5)"
   ]
  },
  {
   "cell_type": "code",
   "execution_count": 28,
   "id": "dec736b0-1816-497c-a83e-8103808c0cfa",
   "metadata": {},
   "outputs": [],
   "source": [
    "ppal_media = ['Clarin', 'La Nacion', 'Pagina 12', 'Todo Noticias', 'Infobae', 'El Destape']\n",
    "ppal_media += ['Ambito Financiero', 'Minuto Uno', 'Perfil', 'El Cronista', 'Radio Mitre', 'El Dia']\n",
    "\n",
    "user_media_df_filtrado = user_media_df[ppal_media].copy()\n",
    "user_media_df_filtrado = user_media_df_filtrado[user_media_df_filtrado.apply(np.count_nonzero, axis = 1) > 0].copy()"
   ]
  },
  {
   "cell_type": "code",
   "execution_count": 29,
   "id": "45a75c6b",
   "metadata": {},
   "outputs": [],
   "source": [
    "# Matrix of user - media shared\n",
    "A = user_media_df_filtrado.to_numpy()"
   ]
  },
  {
   "cell_type": "code",
   "execution_count": 30,
   "id": "20b5d235",
   "metadata": {},
   "outputs": [],
   "source": [
    "score_users = np.random.normal(loc = 0, scale = 1.00, size = A.shape[0])\n",
    "score_users = (score_users - np.mean(score_users))/np.std(score_users)\n",
    "\n",
    "for iteration in range(50):\n",
    "    \n",
    "    score_media = np.array([np.average(score_users, weights=A[:,i]) for i in range(A.shape[1])])\n",
    "    score_users = np.array([np.average(score_media, weights=A[j,:]) for j in range(A.shape[0])])\n",
    "\n",
    "    score_users = (score_users - np.mean(score_users))/np.std(score_users)"
   ]
  },
  {
   "cell_type": "code",
   "execution_count": 31,
   "id": "adbdec94",
   "metadata": {},
   "outputs": [],
   "source": [
    "score_media = np.array([np.average(score_users, weights=A[:,i]) for i in range(A.shape[1])])\n",
    "media_score = [[user_media_df_filtrado.columns[i], score_media[i]] for i in range(len(score_media))]\n",
    "print(media_score)"
   ]
  },
  {
   "cell_type": "code",
   "execution_count": 33,
   "id": "92032f19",
   "metadata": {},
   "outputs": [],
   "source": [
    "# Scores of the users\n",
    "fig, ax = plt.subplots(dpi = 300, figsize=(5,3))\n",
    "\n",
    "ax.hist(score_users, bins = np.arange(-2, 2, 0.25), alpha = 0.50, color = 'g', density = True)\n",
    "ax.set_xlabel(r'MSI', size = 14)\n",
    "\n",
    "ax2 = ax.twinx()\n",
    "for ms in media_score:\n",
    "    ax2.axvline(ms[1], color = 'grey', alpha = 0.65)\n",
    "    if ms[0] != 'Clarin':\n",
    "        ax2.text(x = ms[1]-0.02, y = 0.5, s=ms[0], rotation = 90, size = 6)\n",
    "    else: \n",
    "        ax2.text(x = ms[1]-0.02, y = 0.25, s=ms[0], rotation = 90, size = 6)\n",
    "ax2.set_yticks([])\n",
    "ax.set_xlim(np.quantile(score_users, q = [0.005, 0.995]) + np.array([-0.65, 0.65]))\n",
    "print(np.quantile(score_users, q = [0.005, 0.995]))\n",
    "fig.tight_layout()\n",
    "plt.savefig('Results/MSI.pdf')#, bbox_inches = matplotlib.transforms.Bbox.from_bounds(0, -0.25, 5, 2.25))\n",
    "plt.savefig('Results/MSI.png')#, bbox_inches = matplotlib.transforms.Bbox.from_bounds(0, -0.25, 5, 2.25))\n",
    "plt.show()"
   ]
  },
  {
   "cell_type": "code",
   "execution_count": 34,
   "id": "da554c72",
   "metadata": {},
   "outputs": [],
   "source": [
    "print(np.quantile(score_users, q = [0.005, 0.995]))\n"
   ]
  },
  {
   "cell_type": "code",
   "execution_count": 10,
   "id": "fb18e75a",
   "metadata": {},
   "outputs": [],
   "source": [
    "user_media_df_filtrado['score'] = score_users"
   ]
  },
  {
   "cell_type": "code",
   "execution_count": 11,
   "id": "87b8df85",
   "metadata": {},
   "outputs": [],
   "source": [
    "user_media_df_filtrado['score'].to_csv('Results/MSI_users_score_with_1outletshared.csv')"
   ]
  },
  {
   "cell_type": "markdown",
   "id": "98273249-3477-4c8a-afdd-eea7ed6bcb0e",
   "metadata": {},
   "source": [
    "### Relation with ideology"
   ]
  },
  {
   "cell_type": "code",
   "execution_count": 12,
   "id": "6cda226f",
   "metadata": {},
   "outputs": [],
   "source": [
    "from scipy.stats import mode \n",
    "\n",
    "user_ideology = data.groupby('usr_id').apply(lambda x: mode(x['opinion_dinamic'])[0][0])\n",
    "\n",
    "ideology_of_msi_users = user_ideology[user_ideology.index.isin(user_media_df_filtrado.index)].to_list()\n",
    "\n",
    "user_media_df_filtrado['ideology'] = ideology_of_msi_users"
   ]
  },
  {
   "cell_type": "code",
   "execution_count": 13,
   "id": "22ac090e",
   "metadata": {},
   "outputs": [],
   "source": [
    "# Scores of the users\n",
    "fig, ax = plt.subplots(dpi = 300, figsize=(5,3))\n",
    "\n",
    "\n",
    "ideocolor = {'FF': 'b', 'MP': 'r'}\n",
    "for ideology in ['FF', 'MP']:\n",
    "    ax.hist(user_media_df_filtrado[user_media_df_filtrado['ideology'] == ideology]['score'], bins = np.arange(-2, 2, 0.25), alpha = 0.50, color = ideocolor[ideology], density = True, label = ['CL' if ideology == 'FF' else 'CR'])\n",
    "ax.set_xlabel(r'MSI', size = 16)\n",
    "ax.legend(loc = 'upper left', fontsize = 8)\n",
    "\n",
    "ax2 = ax.twinx()\n",
    "for ms in media_score:\n",
    "    ax2.axvline(ms[1], color = 'grey', alpha = 0.65)\n",
    "    if ms[0] != 'Clarin':\n",
    "        ax2.text(x = ms[1]-0.02, y = 0.5, s=ms[0], rotation = 90, size = 6)\n",
    "    else: \n",
    "        ax2.text(x = ms[1]-0.02, y = 0.25, s=ms[0], rotation = 90, size = 6)\n",
    "ax2.set_yticks([])\n",
    "ax.set_xlim(np.quantile(score_users, q = [0.005, 0.995]) + [-0.65, 0.65])\n",
    "fig.tight_layout()\n",
    "plt.savefig('Results/MSI_ideology.pdf')#, bbox_inches = matplotlib.transforms.Bbox.from_bounds(0, -0.25, 5, 2.25))\n",
    "plt.savefig('Results/MSI_ideology.png')#, bbox_inches = matplotlib.transforms.Bbox.from_bounds(0, -0.25, 5, 2.25))\n",
    "plt.show()"
   ]
  },
  {
   "cell_type": "markdown",
   "id": "4037b3dc",
   "metadata": {},
   "source": [
    "### Relation with sentiment bias "
   ]
  },
  {
   "cell_type": "code",
   "execution_count": 14,
   "id": "73d79f1e",
   "metadata": {},
   "outputs": [],
   "source": [
    "media_score"
   ]
  },
  {
   "cell_type": "code",
   "execution_count": 15,
   "id": "edc2446c",
   "metadata": {},
   "outputs": [],
   "source": [
    "df_aux = pd.read_csv('Data/dataEchoChambers_with_article_info.csv').drop_duplicates(subset=['url_expanded'])"
   ]
  },
  {
   "cell_type": "code",
   "execution_count": 16,
   "id": "d1d5f4a3",
   "metadata": {},
   "outputs": [],
   "source": [
    "def SB_Albanese2020(x):\n",
    "    ans = (x['pos_mp'] - x['neg_mp']) - (x['pos_ff'] - x['neg_ff'])\n",
    "    norm = x['N_ff'] + x['N_mp']\n",
    "    if norm != 0:\n",
    "        ans /= norm\n",
    "        return ans \n",
    "    else:\n",
    "        return np.nan"
   ]
  },
  {
   "cell_type": "code",
   "execution_count": 17,
   "id": "60ed7efd",
   "metadata": {},
   "outputs": [],
   "source": [
    "df_aux['SB'] = df_aux.apply(lambda x: SB_Albanese2020(x), axis = 1)"
   ]
  },
  {
   "cell_type": "code",
   "execution_count": 18,
   "id": "88dd089b",
   "metadata": {},
   "outputs": [],
   "source": [
    "SB_medio = df_aux.groupby('medio')['SB'].mean().sort_values().reset_index()"
   ]
  },
  {
   "cell_type": "code",
   "execution_count": 19,
   "id": "8906af18",
   "metadata": {},
   "outputs": [],
   "source": [
    "SB_medio = SB_medio[SB_medio.medio.isin(ppal_media)].copy()"
   ]
  },
  {
   "cell_type": "code",
   "execution_count": 20,
   "id": "88330b6a",
   "metadata": {},
   "outputs": [],
   "source": [
    "SB_medio.sort_values('medio', inplace=True)"
   ]
  },
  {
   "cell_type": "code",
   "execution_count": 21,
   "id": "68f5d25f",
   "metadata": {},
   "outputs": [],
   "source": [
    "msi = [m[1] for m in sorted(media_score, key = lambda x: x[0])]"
   ]
  },
  {
   "cell_type": "code",
   "execution_count": 22,
   "id": "2057fdb5",
   "metadata": {},
   "outputs": [],
   "source": [
    "SB_medio['MSI'] = msi"
   ]
  },
  {
   "cell_type": "code",
   "execution_count": 23,
   "id": "81da6671",
   "metadata": {},
   "outputs": [],
   "source": [
    "# Scores of the users\n",
    "fig, ax = plt.subplots(dpi = 300, figsize=(7,7))\n",
    "\n",
    "ax.scatter(SB_medio['MSI'], SB_medio['SB'], alpha = 0.50, color = 'g', s = 500)\n",
    "ax.set_xlabel(r'MSI', size = 30)\n",
    "ax.set_ylabel(r'$\\langle SB \\rangle$', size = 30)\n",
    "\n",
    "for i in range(SB_medio.shape[0]):\n",
    "    ax.text(SB_medio.iloc[i]['MSI'], SB_medio.iloc[i]['SB'], SB_medio.iloc[i]['medio'], size = 10)\n",
    "    \n",
    "ax.set_xlim([-2, 2])\n",
    "ax.set_ylim(-0.20, 0.05)\n",
    "#ax.set_title('Spearman r: {:.3f}'.format(SB_medio[['SB', 'MSI']].corr('spearman').to_numpy()[1,0]), size = 16)\n",
    "ax.tick_params(axis='both', labelsize = 16)\n",
    "\n",
    "fig.tight_layout()\n",
    "plt.savefig('Results/MSI_SB.pdf')#, bbox_inches = matplotlib.transforms.Bbox.from_bounds(-0.5, -0.25, 7.25, 7.25))\n",
    "plt.savefig('Results/MSI_SB.png')#, bbox_inches = matplotlib.transforms.Bbox.from_bounds(-0.5, -0.25, 7.25, 7.25))\n",
    "plt.show()"
   ]
  },
  {
   "cell_type": "code",
   "execution_count": null,
   "id": "5f6a43d9",
   "metadata": {},
   "outputs": [],
   "source": []
  }
 ],
 "metadata": {
  "kernelspec": {
   "display_name": "Python 3 (ipykernel)",
   "language": "python",
   "name": "python3"
  },
  "language_info": {
   "codemirror_mode": {
    "name": "ipython",
    "version": 3
   },
   "file_extension": ".py",
   "mimetype": "text/x-python",
   "name": "python",
   "nbconvert_exporter": "python",
   "pygments_lexer": "ipython3",
   "version": "3.8.10"
  }
 },
 "nbformat": 4,
 "nbformat_minor": 5
}
