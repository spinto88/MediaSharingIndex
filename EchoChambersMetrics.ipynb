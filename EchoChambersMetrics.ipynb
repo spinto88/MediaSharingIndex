{
 "cells": [
  {
   "cell_type": "code",
   "execution_count": 3,
   "id": "c4bf378b-5249-4aae-8c5d-19f7f2c79678",
   "metadata": {},
   "outputs": [
    {
     "name": "stdout",
     "output_type": "stream",
     "text": [
      "Requirement already satisfied: seaborn in /home/sebastian/Proyectos/EnergyGreenMap/env/lib/python3.8/site-packages (0.12.2)\n",
      "Requirement already satisfied: numpy!=1.24.0,>=1.17 in /home/sebastian/Proyectos/EnergyGreenMap/env/lib/python3.8/site-packages (from seaborn) (1.24.4)\n",
      "Requirement already satisfied: pandas>=0.25 in /home/sebastian/Proyectos/EnergyGreenMap/env/lib/python3.8/site-packages (from seaborn) (2.0.3)\n",
      "Requirement already satisfied: matplotlib!=3.6.1,>=3.1 in /home/sebastian/Proyectos/EnergyGreenMap/env/lib/python3.8/site-packages (from seaborn) (3.7.2)\n",
      "Requirement already satisfied: contourpy>=1.0.1 in /home/sebastian/Proyectos/EnergyGreenMap/env/lib/python3.8/site-packages (from matplotlib!=3.6.1,>=3.1->seaborn) (1.1.0)\n",
      "Requirement already satisfied: cycler>=0.10 in /home/sebastian/Proyectos/EnergyGreenMap/env/lib/python3.8/site-packages (from matplotlib!=3.6.1,>=3.1->seaborn) (0.11.0)\n",
      "Requirement already satisfied: fonttools>=4.22.0 in /home/sebastian/Proyectos/EnergyGreenMap/env/lib/python3.8/site-packages (from matplotlib!=3.6.1,>=3.1->seaborn) (4.41.1)\n",
      "Requirement already satisfied: kiwisolver>=1.0.1 in /home/sebastian/Proyectos/EnergyGreenMap/env/lib/python3.8/site-packages (from matplotlib!=3.6.1,>=3.1->seaborn) (1.4.4)\n",
      "Requirement already satisfied: packaging>=20.0 in /home/sebastian/Proyectos/EnergyGreenMap/env/lib/python3.8/site-packages (from matplotlib!=3.6.1,>=3.1->seaborn) (23.1)\n",
      "Requirement already satisfied: pillow>=6.2.0 in /home/sebastian/Proyectos/EnergyGreenMap/env/lib/python3.8/site-packages (from matplotlib!=3.6.1,>=3.1->seaborn) (10.0.0)\n",
      "Requirement already satisfied: pyparsing<3.1,>=2.3.1 in /home/sebastian/Proyectos/EnergyGreenMap/env/lib/python3.8/site-packages (from matplotlib!=3.6.1,>=3.1->seaborn) (3.0.9)\n",
      "Requirement already satisfied: python-dateutil>=2.7 in /home/sebastian/Proyectos/EnergyGreenMap/env/lib/python3.8/site-packages (from matplotlib!=3.6.1,>=3.1->seaborn) (2.8.2)\n",
      "Requirement already satisfied: importlib-resources>=3.2.0 in /home/sebastian/Proyectos/EnergyGreenMap/env/lib/python3.8/site-packages (from matplotlib!=3.6.1,>=3.1->seaborn) (6.0.0)\n",
      "Requirement already satisfied: pytz>=2020.1 in /home/sebastian/Proyectos/EnergyGreenMap/env/lib/python3.8/site-packages (from pandas>=0.25->seaborn) (2023.3)\n",
      "Requirement already satisfied: tzdata>=2022.1 in /home/sebastian/Proyectos/EnergyGreenMap/env/lib/python3.8/site-packages (from pandas>=0.25->seaborn) (2023.3)\n",
      "Requirement already satisfied: zipp>=3.1.0 in /home/sebastian/Proyectos/EnergyGreenMap/env/lib/python3.8/site-packages (from importlib-resources>=3.2.0->matplotlib!=3.6.1,>=3.1->seaborn) (3.16.2)\n",
      "Requirement already satisfied: six>=1.5 in /home/sebastian/Proyectos/EnergyGreenMap/env/lib/python3.8/site-packages (from python-dateutil>=2.7->matplotlib!=3.6.1,>=3.1->seaborn) (1.16.0)\n",
      "\n",
      "\u001b[1m[\u001b[0m\u001b[34;49mnotice\u001b[0m\u001b[1;39;49m]\u001b[0m\u001b[39;49m A new release of pip is available: \u001b[0m\u001b[31;49m23.2\u001b[0m\u001b[39;49m -> \u001b[0m\u001b[32;49m23.2.1\u001b[0m\n",
      "\u001b[1m[\u001b[0m\u001b[34;49mnotice\u001b[0m\u001b[1;39;49m]\u001b[0m\u001b[39;49m To update, run: \u001b[0m\u001b[32;49mpip install --upgrade pip\u001b[0m\n"
     ]
    }
   ],
   "source": [
    "import pandas as pd \n",
    "import matplotlib.pyplot as plt \n",
    "import numpy as np \n",
    "import networkx as nx\n",
    "!pip install seaborn\n",
    "import seaborn as sns \n",
    "import matplotlib.colors as mcolors"
   ]
  },
  {
   "cell_type": "markdown",
   "id": "b28fea1f-fa4f-4cff-9d1e-4a448f3721f5",
   "metadata": {},
   "source": [
    "### Retweeted users"
   ]
  },
  {
   "cell_type": "code",
   "execution_count": 4,
   "id": "b1c86d90",
   "metadata": {},
   "outputs": [
    {
     "data": {
      "text/html": [
       "<div>\n",
       "<style scoped>\n",
       "    .dataframe tbody tr th:only-of-type {\n",
       "        vertical-align: middle;\n",
       "    }\n",
       "\n",
       "    .dataframe tbody tr th {\n",
       "        vertical-align: top;\n",
       "    }\n",
       "\n",
       "    .dataframe thead th {\n",
       "        text-align: right;\n",
       "    }\n",
       "</style>\n",
       "<table border=\"1\" class=\"dataframe\">\n",
       "  <thead>\n",
       "    <tr style=\"text-align: right;\">\n",
       "      <th></th>\n",
       "      <th>usr_id</th>\n",
       "      <th>score_usr</th>\n",
       "      <th>score_usr_rt</th>\n",
       "    </tr>\n",
       "  </thead>\n",
       "  <tbody>\n",
       "    <tr>\n",
       "      <th>0</th>\n",
       "      <td>12864</td>\n",
       "      <td>0.861894</td>\n",
       "      <td>-0.358751</td>\n",
       "    </tr>\n",
       "    <tr>\n",
       "      <th>1</th>\n",
       "      <td>58613</td>\n",
       "      <td>0.672147</td>\n",
       "      <td>0.456931</td>\n",
       "    </tr>\n",
       "    <tr>\n",
       "      <th>2</th>\n",
       "      <td>59173</td>\n",
       "      <td>-0.014711</td>\n",
       "      <td>-0.132680</td>\n",
       "    </tr>\n",
       "    <tr>\n",
       "      <th>3</th>\n",
       "      <td>624143</td>\n",
       "      <td>0.563749</td>\n",
       "      <td>0.288823</td>\n",
       "    </tr>\n",
       "    <tr>\n",
       "      <th>4</th>\n",
       "      <td>760916</td>\n",
       "      <td>0.645047</td>\n",
       "      <td>0.314460</td>\n",
       "    </tr>\n",
       "    <tr>\n",
       "      <th>...</th>\n",
       "      <td>...</td>\n",
       "      <td>...</td>\n",
       "      <td>...</td>\n",
       "    </tr>\n",
       "    <tr>\n",
       "      <th>110042</th>\n",
       "      <td>1188508867795324929</td>\n",
       "      <td>-1.756021</td>\n",
       "      <td>-0.181276</td>\n",
       "    </tr>\n",
       "    <tr>\n",
       "      <th>110043</th>\n",
       "      <td>1188553037721358337</td>\n",
       "      <td>-1.756021</td>\n",
       "      <td>-0.915818</td>\n",
       "    </tr>\n",
       "    <tr>\n",
       "      <th>110044</th>\n",
       "      <td>1188581572066381824</td>\n",
       "      <td>-1.674408</td>\n",
       "      <td>-0.934023</td>\n",
       "    </tr>\n",
       "    <tr>\n",
       "      <th>110045</th>\n",
       "      <td>1188584446368321536</td>\n",
       "      <td>-1.756021</td>\n",
       "      <td>-1.089051</td>\n",
       "    </tr>\n",
       "    <tr>\n",
       "      <th>110046</th>\n",
       "      <td>1188594220606640134</td>\n",
       "      <td>0.563749</td>\n",
       "      <td>0.699082</td>\n",
       "    </tr>\n",
       "  </tbody>\n",
       "</table>\n",
       "<p>110047 rows × 3 columns</p>\n",
       "</div>"
      ],
      "text/plain": [
       "                     usr_id  score_usr  score_usr_rt\n",
       "0                     12864   0.861894     -0.358751\n",
       "1                     58613   0.672147      0.456931\n",
       "2                     59173  -0.014711     -0.132680\n",
       "3                    624143   0.563749      0.288823\n",
       "4                    760916   0.645047      0.314460\n",
       "...                     ...        ...           ...\n",
       "110042  1188508867795324929  -1.756021     -0.181276\n",
       "110043  1188553037721358337  -1.756021     -0.915818\n",
       "110044  1188581572066381824  -1.674408     -0.934023\n",
       "110045  1188584446368321536  -1.756021     -1.089051\n",
       "110046  1188594220606640134   0.563749      0.699082\n",
       "\n",
       "[110047 rows x 3 columns]"
      ]
     },
     "execution_count": 4,
     "metadata": {},
     "output_type": "execute_result"
    }
   ],
   "source": [
    "# Data\n",
    "df = pd.read_csv('Results/Average_score_retweeted_users.csv')\n",
    "df"
   ]
  },
  {
   "cell_type": "code",
   "execution_count": 5,
   "id": "b444c4f1",
   "metadata": {},
   "outputs": [
    {
     "name": "stderr",
     "output_type": "stream",
     "text": [
      "/tmp/ipykernel_139014/3630784913.py:18: UserWarning: The figure layout has changed to tight\n",
      "  plt.tight_layout()\n"
     ]
    },
    {
     "data": {
      "text/plain": [
       "<Figure size 3900x3900 with 0 Axes>"
      ]
     },
     "metadata": {},
     "output_type": "display_data"
    },
    {
     "data": {
      "image/png": "[encoded data removed]",
      "text/plain": [
       "<Figure size 600x600 with 3 Axes>"
      ]
     },
     "metadata": {},
     "output_type": "display_data"
    }
   ],
   "source": [
    "plt.figure(dpi = 300, figsize=(13,13))\n",
    "\n",
    "ax1 = sns.jointplot(x=df['score_usr'], y=df['score_usr_rt'], marginal_kws=dict(bins = np.arange(-2.5, 2.5, 0.125)),color='grey')\n",
    "ax1.ax_joint.cla()\n",
    "plt.sca(ax1.ax_joint)\n",
    "plt.hist2d(df['score_usr'],df['score_usr_rt'], bins = np.arange(-2.5, 2.5, 0.125), cmap = 'magma', vmin = 0.00, vmax = 1000) #norm=mcolors.PowerNorm(0.3), cmap = 'magma')\n",
    "\n",
    "plt.xlabel(r'$MSI_{target}$', size = 15)\n",
    "plt.ylabel(r'$\\langle MSI_{sources} \\rangle$', size = 15)\n",
    "\n",
    "plt.xlim(np.quantile(df['score_usr'].to_list(), q = [0.005, 0.995]) + np.array([-0.20, 0.20]))\n",
    "plt.ylim(np.quantile(df['score_usr_rt'].to_list(), q = [0.005, 0.995]) + np.array([-0.20, 0.20]))\n",
    "\n",
    "#cbar_ax = ax1.fig.add_axes([1, 0.1, .03, .7])\n",
    "#cb = plt.colorbar(cax=cbar_ax)\n",
    "#cb.set_label(r'$\\log_{10}$ density of points',fontsize=13)\n",
    "\n",
    "plt.tight_layout()\n",
    "plt.savefig('Results/EchoChamber1.png')\n",
    "plt.savefig('Results/EchoChamber1.pdf')\n",
    "plt.show()"
   ]
  },
  {
   "cell_type": "markdown",
   "id": "b016cfd5-a83f-4715-add7-0e477a232c83",
   "metadata": {},
   "source": [
    "### Retweers users"
   ]
  },
  {
   "cell_type": "code",
   "execution_count": 7,
   "id": "fd38cd66-ad11-497c-9d75-e375da561563",
   "metadata": {},
   "outputs": [],
   "source": [
    "df = pd.read_csv('Results/Average_score_retweeters_users.csv')"
   ]
  },
  {
   "cell_type": "code",
   "execution_count": 8,
   "id": "82aa89c3-e56c-4ee1-b8d0-727b6a6f1282",
   "metadata": {},
   "outputs": [
    {
     "name": "stderr",
     "output_type": "stream",
     "text": [
      "/tmp/ipykernel_139014/2728641731.py:19: UserWarning: The figure layout has changed to tight\n",
      "  plt.tight_layout()\n"
     ]
    },
    {
     "data": {
      "text/plain": [
       "<Figure size 3900x3900 with 0 Axes>"
      ]
     },
     "metadata": {},
     "output_type": "display_data"
    },
    {
     "data": {
      "image/png": "[encoded data removed]",
      "text/plain": [
       "<Figure size 600x600 with 3 Axes>"
      ]
     },
     "metadata": {},
     "output_type": "display_data"
    }
   ],
   "source": [
    "plt.figure(dpi = 300, figsize=(13,13))\n",
    "\n",
    "ax1 = sns.jointplot(x=df['score_usr'], y=df['score_usr_rt'], marginal_kws=dict(bins = np.arange(-2.5, 2.5, 0.125)),color='grey')\n",
    "ax1.ax_joint.cla()\n",
    "plt.sca(ax1.ax_joint)\n",
    "plt.hist2d(df['score_usr'],df['score_usr_rt'], bins = np.arange(-2.5, 2.5, 0.125), cmap = 'magma', vmin = 0.00, vmax = 1000) #norm=mcolors.PowerNorm(0.3), cmap = 'magma')\n",
    "plt.xlabel(r'$MSI_{source}$', size = 15)\n",
    "plt.ylabel(r'$\\langle MSI_{targets} \\rangle$', size = 15)\n",
    "\n",
    "#lims = np.quantile(df['score_usr'].to_list(), q = [0.025, 0.975]) + np.array([-0.35, 0.35])\n",
    "plt.xlim(np.quantile(df['score_usr'].to_list(), q = [0.005, 0.995]) + np.array([-0.20, 0.20]))\n",
    "plt.ylim(np.quantile(df['score_usr_rt'].to_list(), q = [0.005, 0.995]) + np.array([-0.20, 0.20]))\n",
    "\n",
    "\n",
    "#cbar_ax = ax1.fig.add_axes([1, 0.1, .03, .7])\n",
    "#cb = plt.colorbar(cax=cbar_ax)\n",
    "#cb.set_label(r'$\\log_{10}$ density of points',fontsize=13)\n",
    "\n",
    "plt.tight_layout()\n",
    "plt.savefig('Results/EchoChamber2.png')\n",
    "plt.savefig('Results/EchoChamber2.pdf')\n",
    "plt.show()"
   ]
  },
  {
   "cell_type": "code",
   "execution_count": null,
   "id": "77dd4028-b7b7-4e25-ab91-96dd9d750663",
   "metadata": {},
   "outputs": [],
   "source": []
  },
  {
   "cell_type": "code",
   "execution_count": null,
   "id": "78a58c5b-cbf7-4cc4-8e45-50a9f1807a1d",
   "metadata": {},
   "outputs": [],
   "source": []
  }
 ],
 "metadata": {
  "kernelspec": {
   "display_name": "Python 3 (ipykernel)",
   "language": "python",
   "name": "python3"
  },
  "language_info": {
   "codemirror_mode": {
    "name": "ipython",
    "version": 3
   },
   "file_extension": ".py",
   "mimetype": "text/x-python",
   "name": "python",
   "nbconvert_exporter": "python",
   "pygments_lexer": "ipython3",
   "version": "3.8.10"
  }
 },
 "nbformat": 4,
 "nbformat_minor": 5
}
